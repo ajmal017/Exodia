{
 "cells": [
  {
   "cell_type": "code",
   "execution_count": 1,
   "metadata": {},
   "outputs": [],
   "source": [
    "from ibapi.client import EClient\n",
    "from ibapi.wrapper import EWrapper\n",
    "from ibapi.contract import Contract\n",
    "from ibapi.common import BarData\n",
    "\n",
    "import datetime"
   ]
  },
  {
   "cell_type": "code",
   "execution_count": 2,
   "metadata": {},
   "outputs": [],
   "source": [
    "class MyWrapper(EWrapper):\n",
    "\n",
    "    def __init__(self):\n",
    "        self.data = {}\n",
    "        \n",
    "    def nextValidId(self, orderId:int):\n",
    "        #4 first message received is this one\n",
    "        print(\"setting nextValidOrderId: %d\", orderId)\n",
    "        self.nextValidOrderId = orderId\n",
    "        #5 start requests here\n",
    "        self.start()\n",
    "\n",
    "    def historicalData(self, reqId:int, bar: BarData):\n",
    "        #7 data is received for every bar\n",
    "        split = str(bar).split(' ')\n",
    "        date_ = split[1][4:6] + '/' + split[1][6:8] + '/' + split[1][0:4]\n",
    "        open_ = split[3]\n",
    "        close_ = split[9]\n",
    "        high_ = split[5]\n",
    "        low_ = split[7]\n",
    "        \n",
    "        formatted = {'open':open_,'close':close_,'high':high_,'low':low_}\n",
    "        self.data[date_] = formatted\n",
    "        \n",
    "#         print(\"HistoricalData. ReqId:\", reqId, \"BarData.\", bar)\n",
    "\n",
    "    def historicalDataEnd(self, reqId: int, start: str, end: str):\n",
    "        #8 data is finished\n",
    "        global DATA\n",
    "        print(\"HistoricalDataEnd. ReqId:\", reqId, \"from\", start, \"to\", end)\n",
    "        #9 this is the logical end of your program\n",
    "        app.disconnect()\n",
    "        print(\"finished\")\n",
    "        DATA = self.data\n",
    "\n",
    "    def error(self, reqId, errorCode, errorString):\n",
    "        # these messages can come anytime.\n",
    "        print(\"Error. Id: \" , reqId, \" Code: \" , errorCode , \" Msg: \" , errorString)\n",
    "\n",
    "    def start(self):\n",
    "        queryTime = (datetime.datetime.today() - datetime.timedelta(days=0)).strftime(\"%Y%m%d %H:%M:%S\")\n",
    "\n",
    "        contract = Contract()\n",
    "        contract.symbol = \"TSLA\"\n",
    "        contract.secType = \"STK\"\n",
    "        contract.exchange = \"SMART\"\n",
    "        contract.currency = \"USD\"\n",
    "        contract.primaryExchange = \"NASDAQ\"\n",
    "        \n",
    "#         fx.secType = \"CASH\" \n",
    "#         fx.symbol = \"USD\"\n",
    "#         fx.currency = \"JPY\"\n",
    "#         fx.exchange = \"IDEALPRO\"\n",
    "\n",
    "        #6 request data, using fx since I don't have Japanese data\n",
    "        app.reqHistoricalData(4102, contract, queryTime,\"6 M\", \"1 day\", \"MIDPOINT\", 1, 1, False, [])\n",
    "        \n",
    "        app.reqFundamentalData(1, contract, \"\", [])"
   ]
  },
  {
   "cell_type": "code",
   "execution_count": 3,
   "metadata": {
    "scrolled": true
   },
   "outputs": [
    {
     "name": "stdout",
     "output_type": "stream",
     "text": [
      "Error. Id:  -1  Code:  502  Msg:  Couldn't connect to TWS. Confirm that \"Enable ActiveX and Socket EClients\" \n",
      "is enabled and connection port is the same as \"Socket Port\" on the \n",
      "TWS \"Edit->Global Configuration...->API->Settings\" menu. Live Trading ports: \n",
      "TWS: 7496; IB Gateway: 4001. Simulated Trading ports for new installations \n",
      "of version 954.1 or newer:  TWS: 7497; IB Gateway: 4002\n"
     ]
    }
   ],
   "source": [
    "DATA = None\n",
    "\n",
    "app = EClient(MyWrapper()) #1 create wrapper subclass and pass it to EClient\n",
    "app.connect(\"127.0.0.1\", 7496, clientId=123) #2 connect to TWS/IBG\n",
    "data = app.run() #3 start message thread"
   ]
  },
  {
   "cell_type": "code",
   "execution_count": 4,
   "metadata": {
    "scrolled": true
   },
   "outputs": [],
   "source": [
    "DATA"
   ]
  },
  {
   "cell_type": "code",
   "execution_count": null,
   "metadata": {},
   "outputs": [],
   "source": []
  }
 ],
 "metadata": {
  "kernelspec": {
   "display_name": "Python 3",
   "language": "python",
   "name": "python3"
  },
  "language_info": {
   "codemirror_mode": {
    "name": "ipython",
    "version": 3
   },
   "file_extension": ".py",
   "mimetype": "text/x-python",
   "name": "python",
   "nbconvert_exporter": "python",
   "pygments_lexer": "ipython3",
   "version": "3.7.3"
  }
 },
 "nbformat": 4,
 "nbformat_minor": 2
}
