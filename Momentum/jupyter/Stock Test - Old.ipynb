{
 "cells": [
  {
   "cell_type": "code",
   "execution_count": 12,
   "metadata": {},
   "outputs": [],
   "source": [
    "from STOCK import Stock"
   ]
  },
  {
   "cell_type": "code",
   "execution_count": 13,
   "metadata": {},
   "outputs": [
    {
     "ename": "TypeError",
     "evalue": "run() missing 1 required positional argument: 'ticker'",
     "output_type": "error",
     "traceback": [
      "\u001b[0;31m---------------------------------------------------------------------------\u001b[0m",
      "\u001b[0;31mTypeError\u001b[0m                                 Traceback (most recent call last)",
      "\u001b[0;32m<ipython-input-13-8c10ed472242>\u001b[0m in \u001b[0;36m<module>\u001b[0;34m\u001b[0m\n\u001b[0;32m----> 1\u001b[0;31m \u001b[0mStock\u001b[0m\u001b[0;34m.\u001b[0m\u001b[0mrun\u001b[0m\u001b[0;34m(\u001b[0m\u001b[0;34m'HEXO'\u001b[0m\u001b[0;34m)\u001b[0m\u001b[0;34m\u001b[0m\u001b[0;34m\u001b[0m\u001b[0m\n\u001b[0m",
      "\u001b[0;31mTypeError\u001b[0m: run() missing 1 required positional argument: 'ticker'"
     ]
    }
   ],
   "source": [
    "Stock.run('HEXO')"
   ]
  },
  {
   "cell_type": "code",
   "execution_count": 11,
   "metadata": {},
   "outputs": [],
   "source": [
    "import stock"
   ]
  },
  {
   "cell_type": "code",
   "execution_count": null,
   "metadata": {},
   "outputs": [],
   "source": []
  },
  {
   "cell_type": "code",
   "execution_count": 17,
   "metadata": {},
   "outputs": [],
   "source": [
    "import pyEX as p\n",
    "import datetime\n",
    "import os\n",
    "import json\n",
    "\n",
    "\n",
    "# In[2]:\n",
    "\n",
    "\n",
    "class Stock(object):\n",
    "    \n",
    "    def __init__(self,ticker):\n",
    "        self.secret = 'sk_fae174660924464996b77d14209a973b'\n",
    "        self.public = 'pk_2f3691af11ad4df583c95f2a4d89d44a'\n",
    "        self.ticker = ticker\n",
    "        p.Client(api_token=self.secret, version='v1', api_limit=5)\n",
    "    \n",
    "    \n",
    "    def get6Months(self):\n",
    "        # 1 day\n",
    "        history = p.chart(symbol=self.ticker, timeframe='6m', date=None, token=self.secret, version='v1', filter='')        \n",
    "        PATH = f'./stock/6m/{self.ticker}.json'\n",
    "        \n",
    "        data = {}\n",
    "        for chunk in history:\n",
    "            formatted = {}\n",
    "            formatted['open'] = chunk['open']\n",
    "            formatted['close'] = chunk['close']\n",
    "            formatted['high'] = chunk['high']\n",
    "            formatted['low'] = chunk['low']\n",
    "            formatted['volume'] = chunk['volume']\n",
    "            \n",
    "            data[chunk['date']] = formatted\n",
    "\n",
    "        with open(PATH,'w') as JSON:\n",
    "            json.dump(data,JSON)\n",
    "            \n",
    "        print('Done 6m.')\n",
    "        \n",
    "    \n",
    "    def get5Days(self):\n",
    "        # 10 min\n",
    "        history = p.chart(self.ticker, timeframe='5dm', date=None, token=self.secret, version='v1', filter='')        \n",
    "        PATH = f'./stock/5d/{self.ticker}.json'\n",
    "        \n",
    "        data = {}\n",
    "        for chunk in history:\n",
    "            formatted = {}\n",
    "            formatted['price'] = chunk['average']\n",
    "            formatted['volume'] = chunk['volume']\n",
    "\n",
    "            date = chunk['date']\n",
    "            try:\n",
    "                data[date][chunk['minute']] = formatted\n",
    "            except:\n",
    "                data[date] = {chunk['minute']:formatted}\n",
    "            \n",
    "        with open(PATH,'w') as JSON:\n",
    "            json.dump(data,JSON)\n",
    "            \n",
    "        print('Done 5d.')\n",
    "    \n",
    "\n",
    "\n",
    "    def pushToEMA(self,timestamp,date):\n",
    "        if timestamp == '16:00:00':\n",
    "            PATH_LIVE = f'./stock/1d/{self.ticker}.json'\n",
    "            PATH_6M = f'./stock/6m/{self.ticker}.json'\n",
    "            PATH_5D = f'./stock/5d/{self.ticker}.json'\n",
    "\n",
    "            oldData6M = {}\n",
    "            oldData5D = {}\n",
    "\n",
    "            with open(PATH_LIVE,'r') as JSON:\n",
    "                todayData = json.load(JSON)\n",
    "            with open(PATH_6M,'r') as JSON:\n",
    "                fiveDayData = json.load(JSON)\n",
    "            with open(PATH_5D,'r') as JSON:\n",
    "                sixMonthData = json.load(JSON)\n",
    "\n",
    "            for DATE in todayData:\n",
    "                formatted = {}\n",
    "                for chunk in todayData[DATE]:\n",
    "                    price = chunk['price']\n",
    "                    volume = chunk['volumeDelta']\n",
    "\n",
    "                    tim = int(chunk[3:5])\n",
    "                    if tim < 10:\n",
    "                        tim = '00'\n",
    "                    elif tim < 20:\n",
    "                        tim = '10'\n",
    "                    elif tim < 30:\n",
    "                        tim = '20'\n",
    "                    elif tim < 40:\n",
    "                        tim = '30'\n",
    "                    elif tim < 50:\n",
    "                        tim = '40'\n",
    "                    elif tim < 60:\n",
    "                        tim = '50'\n",
    "\n",
    "                    formatted[chunk[0:3]+tim] = {'price':price,'volume':volume}\n",
    "                oldData5D[DATE] = formatted\n",
    "\n",
    "                oldData = p.quote(symbol=self.ticker, token=self.secret, version='v1')\n",
    "                open_ = oldData['open']\n",
    "                close_ = oldData['close']\n",
    "                high_ = oldData['high']\n",
    "                low_ = oldData['low']\n",
    "                volume_ = oldData['volume']\n",
    "                \n",
    "                oldData6M[DATE] = {'open':open_,'close':close_,'high':high_,'low':low_,'volume':volume_}\n",
    "\n",
    " \n",
    "            with open(PATH_6M,'w') as JSON:\n",
    "                json.dump(oldData6M,JSON)\n",
    "            with open(PATH_5D,'w') as JSON:\n",
    "                json.dump(oldData5D,JSON)\n",
    "\n",
    "\n",
    "    def getLiveQuote(self):\n",
    "        # Snapshot\n",
    "        today = p.quote(symbol=self.ticker, token=self.secret, version='v1')\n",
    "        PATH = f'./stock/1d/{self.ticker}.json'\n",
    "        \n",
    "        old_data = {}\n",
    "        if os.path.exists(PATH):\n",
    "            with open(PATH,'r') as JSON:\n",
    "                old_data = json.load(JSON)\n",
    "\n",
    "        date = int(str(today['latestUpdate'])[0:-3])\n",
    "        dateYYMMDD = str(datetime.datetime.fromtimestamp(date)).split(' ')[0]\n",
    "        timestamp = str(datetime.datetime.fromtimestamp(date)).split(' ')[1]    \n",
    "        \n",
    "        formatted = {}\n",
    "        formatted['price'] = today['iexRealtimePrice']\n",
    "        formatted['volume'] = today['volume']\n",
    "        \n",
    "        try:\n",
    "            volumeDelta = today['volume'] - old_data['lastVolume']\n",
    "            formatted['volumeDelta'] = volumeDelta\n",
    "        except:\n",
    "            formatted['volumeDelta'] = 0\n",
    "            \n",
    "        old_data['lastVolume'] = today['volume']\n",
    "        try:\n",
    "            old_data[dateYYMMDD][timestamp] = formatted\n",
    "        except:\n",
    "            old_data[dateYYMMDD] = {timestamp:formatted}\n",
    "        \n",
    "        with open(PATH,'w') as JSON:\n",
    "            json.dump(old_data,JSON)\n",
    "\n",
    "        self.pushToEMA(timestamp,dateYYMMDD)\n",
    "        print('Done Live.')\n",
    "    \n",
    "    \n",
    "    def run(self):\n",
    "        PATH_6M = f'./stock/6m/{self.ticker}.json'\n",
    "        PATH_5D = f'./stock/5d/{self.ticker}.json'\n",
    "        PATH_1D = f'./stock/1d/{self.ticker}.json'\n",
    "        \n",
    "        if os.path.exists(PATH_6M) != True:\n",
    "            self.get6Months()\n",
    "        if os.path.exists(PATH_5D) != True:\n",
    "            self.get5Days()\n",
    "            \n",
    "        self.getLiveQuote()\n"
   ]
  },
  {
   "cell_type": "code",
   "execution_count": 18,
   "metadata": {},
   "outputs": [],
   "source": [
    "c = Stock('HEXO')"
   ]
  },
  {
   "cell_type": "code",
   "execution_count": 19,
   "metadata": {},
   "outputs": [
    {
     "name": "stdout",
     "output_type": "stream",
     "text": [
      "Done Live.\n"
     ]
    }
   ],
   "source": [
    "c.run()"
   ]
  },
  {
   "cell_type": "code",
   "execution_count": 23,
   "metadata": {},
   "outputs": [],
   "source": [
    "from stock import Stock"
   ]
  },
  {
   "cell_type": "code",
   "execution_count": 24,
   "metadata": {},
   "outputs": [
    {
     "ename": "TypeError",
     "evalue": "__init__() takes 1 positional argument but 2 were given",
     "output_type": "error",
     "traceback": [
      "\u001b[0;31m---------------------------------------------------------------------------\u001b[0m",
      "\u001b[0;31mTypeError\u001b[0m                                 Traceback (most recent call last)",
      "\u001b[0;32m<ipython-input-24-ed123a737648>\u001b[0m in \u001b[0;36m<module>\u001b[0;34m\u001b[0m\n\u001b[0;32m----> 1\u001b[0;31m \u001b[0mStock\u001b[0m\u001b[0;34m(\u001b[0m\u001b[0;34m'HEXO'\u001b[0m\u001b[0;34m)\u001b[0m\u001b[0;34m.\u001b[0m\u001b[0mrun\u001b[0m\u001b[0;34m(\u001b[0m\u001b[0;34m)\u001b[0m\u001b[0;34m\u001b[0m\u001b[0;34m\u001b[0m\u001b[0m\n\u001b[0m",
      "\u001b[0;31mTypeError\u001b[0m: __init__() takes 1 positional argument but 2 were given"
     ]
    }
   ],
   "source": [
    "Stock('HEXO').run()"
   ]
  },
  {
   "cell_type": "code",
   "execution_count": null,
   "metadata": {},
   "outputs": [],
   "source": []
  }
 ],
 "metadata": {
  "kernelspec": {
   "display_name": "Python 3",
   "language": "python",
   "name": "python3"
  },
  "language_info": {
   "codemirror_mode": {
    "name": "ipython",
    "version": 3
   },
   "file_extension": ".py",
   "mimetype": "text/x-python",
   "name": "python",
   "nbconvert_exporter": "python",
   "pygments_lexer": "ipython3",
   "version": "3.7.3"
  }
 },
 "nbformat": 4,
 "nbformat_minor": 2
}
