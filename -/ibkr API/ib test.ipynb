{
 "cells": [
  {
   "cell_type": "code",
   "execution_count": 9,
   "metadata": {},
   "outputs": [],
   "source": [
    "# https://readthedocs.org/projects/ib-insync/downloads/pdf/latest/"
   ]
  },
  {
   "cell_type": "code",
   "execution_count": 9,
   "metadata": {
    "scrolled": true
   },
   "outputs": [
    {
     "name": "stdout",
     "output_type": "stream",
     "text": [
      "                    date      open      high       low     close  volume  \\\n",
      "0    2019-10-21 17:15:00  1.114925  1.115270  1.114555  1.115030      -1   \n",
      "1    2019-10-21 18:00:00  1.115030  1.115320  1.114795  1.114965      -1   \n",
      "2    2019-10-21 19:00:00  1.114965  1.115180  1.114820  1.115175      -1   \n",
      "3    2019-10-21 20:00:00  1.115175  1.115435  1.115030  1.115425      -1   \n",
      "4    2019-10-21 21:00:00  1.115425  1.115685  1.115120  1.115170      -1   \n",
      "5    2019-10-21 22:00:00  1.115170  1.115385  1.114745  1.115175      -1   \n",
      "6    2019-10-21 23:00:00  1.115175  1.115235  1.114910  1.114945      -1   \n",
      "7    2019-10-22 00:00:00  1.114945  1.115345  1.114915  1.115285      -1   \n",
      "8    2019-10-22 01:00:00  1.115285  1.115685  1.115195  1.115285      -1   \n",
      "9    2019-10-22 02:00:00  1.115285  1.115680  1.114835  1.114865      -1   \n",
      "10   2019-10-22 03:00:00  1.114865  1.115065  1.114245  1.114455      -1   \n",
      "11   2019-10-22 04:00:00  1.114455  1.114690  1.113335  1.114105      -1   \n",
      "12   2019-10-22 05:00:00  1.114105  1.114525  1.113755  1.114405      -1   \n",
      "13   2019-10-22 06:00:00  1.114405  1.114825  1.113875  1.114240      -1   \n",
      "14   2019-10-22 07:00:00  1.114240  1.114295  1.113365  1.113825      -1   \n",
      "15   2019-10-22 08:00:00  1.113825  1.113915  1.112295  1.112685      -1   \n",
      "16   2019-10-22 09:00:00  1.112685  1.113805  1.112595  1.113425      -1   \n",
      "17   2019-10-22 10:00:00  1.113425  1.113775  1.112535  1.113155      -1   \n",
      "18   2019-10-22 11:00:00  1.113155  1.114595  1.113005  1.113775      -1   \n",
      "19   2019-10-22 12:00:00  1.113775  1.114305  1.113555  1.114070      -1   \n",
      "20   2019-10-22 13:00:00  1.114070  1.114655  1.113895  1.114445      -1   \n",
      "21   2019-10-22 14:00:00  1.114445  1.115420  1.112020  1.112355      -1   \n",
      "22   2019-10-22 15:00:00  1.112355  1.113595  1.111785  1.113145      -1   \n",
      "23   2019-10-22 16:00:00  1.113145  1.113150  1.112460  1.112500      -1   \n",
      "24   2019-10-22 17:15:00  1.112700  1.112745  1.112350  1.112495      -1   \n",
      "25   2019-10-22 18:00:00  1.112495  1.113135  1.112485  1.113075      -1   \n",
      "26   2019-10-22 19:00:00  1.113075  1.113100  1.112775  1.112905      -1   \n",
      "27   2019-10-22 20:00:00  1.112905  1.113085  1.112475  1.112615      -1   \n",
      "28   2019-10-22 21:00:00  1.112615  1.112695  1.112115  1.112120      -1   \n",
      "29   2019-10-22 22:00:00  1.112120  1.112440  1.111995  1.112015      -1   \n",
      "...                  ...       ...       ...       ...       ...     ...   \n",
      "4260 2020-06-29 13:00:00  1.122755  1.123345  1.121955  1.122725      -1   \n",
      "4261 2020-06-29 14:00:00  1.122725  1.123550  1.122585  1.123510      -1   \n",
      "4262 2020-06-29 15:00:00  1.123510  1.123955  1.122965  1.123640      -1   \n",
      "4263 2020-06-29 16:00:00  1.123640  1.124300  1.123510  1.124170      -1   \n",
      "4264 2020-06-29 17:15:00  1.123725  1.124260  1.123580  1.124085      -1   \n",
      "4265 2020-06-29 18:00:00  1.124085  1.124960  1.124055  1.124900      -1   \n",
      "4266 2020-06-29 19:00:00  1.124900  1.125200  1.124430  1.124690      -1   \n",
      "4267 2020-06-29 20:00:00  1.124690  1.124730  1.123465  1.123835      -1   \n",
      "4268 2020-06-29 21:00:00  1.123835  1.124785  1.123615  1.124735      -1   \n",
      "4269 2020-06-29 22:00:00  1.124735  1.124955  1.124025  1.124190      -1   \n",
      "4270 2020-06-29 23:00:00  1.124190  1.124640  1.123725  1.123790      -1   \n",
      "4271 2020-06-30 00:00:00  1.123790  1.124435  1.123705  1.123870      -1   \n",
      "4272 2020-06-30 01:00:00  1.123870  1.124025  1.122495  1.123110      -1   \n",
      "4273 2020-06-30 02:00:00  1.123110  1.123125  1.120415  1.121315      -1   \n",
      "4274 2020-06-30 03:00:00  1.121315  1.122385  1.120535  1.122325      -1   \n",
      "4275 2020-06-30 04:00:00  1.122325  1.122785  1.121755  1.121885      -1   \n",
      "4276 2020-06-30 05:00:00  1.121885  1.121985  1.119985  1.120520      -1   \n",
      "4277 2020-06-30 06:00:00  1.120520  1.121925  1.119825  1.120935      -1   \n",
      "4278 2020-06-30 07:00:00  1.120935  1.121345  1.119425  1.119455      -1   \n",
      "4279 2020-06-30 08:00:00  1.119455  1.121865  1.119105  1.120915      -1   \n",
      "4280 2020-06-30 09:00:00  1.120915  1.123125  1.120695  1.120830      -1   \n",
      "4281 2020-06-30 10:00:00  1.120830  1.123675  1.120345  1.123285      -1   \n",
      "4282 2020-06-30 11:00:00  1.123285  1.126205  1.122965  1.123795      -1   \n",
      "4283 2020-06-30 12:00:00  1.123795  1.124985  1.123625  1.124325      -1   \n",
      "4284 2020-06-30 13:00:00  1.124325  1.125185  1.123655  1.123770      -1   \n",
      "4285 2020-06-30 14:00:00  1.123770  1.123845  1.123085  1.123275      -1   \n",
      "4286 2020-06-30 15:00:00  1.123275  1.123870  1.122635  1.123375      -1   \n",
      "4287 2020-06-30 16:00:00  1.123375  1.123580  1.123055  1.123425      -1   \n",
      "4288 2020-06-30 17:15:00  1.123355  1.123480  1.123145  1.123250      -1   \n",
      "4289 2020-06-30 18:00:00  1.123250  1.123640  1.123175  1.123475      -1   \n",
      "\n",
      "      average  barCount  \n",
      "0        -1.0        -1  \n",
      "1        -1.0        -1  \n",
      "2        -1.0        -1  \n",
      "3        -1.0        -1  \n",
      "4        -1.0        -1  \n",
      "5        -1.0        -1  \n",
      "6        -1.0        -1  \n",
      "7        -1.0        -1  \n",
      "8        -1.0        -1  \n",
      "9        -1.0        -1  \n",
      "10       -1.0        -1  \n",
      "11       -1.0        -1  \n",
      "12       -1.0        -1  \n",
      "13       -1.0        -1  \n",
      "14       -1.0        -1  \n",
      "15       -1.0        -1  \n",
      "16       -1.0        -1  \n",
      "17       -1.0        -1  \n",
      "18       -1.0        -1  \n",
      "19       -1.0        -1  \n",
      "20       -1.0        -1  \n",
      "21       -1.0        -1  \n",
      "22       -1.0        -1  \n",
      "23       -1.0        -1  \n",
      "24       -1.0        -1  \n",
      "25       -1.0        -1  \n",
      "26       -1.0        -1  \n",
      "27       -1.0        -1  \n",
      "28       -1.0        -1  \n",
      "29       -1.0        -1  \n",
      "...       ...       ...  \n",
      "4260     -1.0        -1  \n",
      "4261     -1.0        -1  \n",
      "4262     -1.0        -1  \n",
      "4263     -1.0        -1  \n",
      "4264     -1.0        -1  \n",
      "4265     -1.0        -1  \n",
      "4266     -1.0        -1  \n",
      "4267     -1.0        -1  \n",
      "4268     -1.0        -1  \n",
      "4269     -1.0        -1  \n",
      "4270     -1.0        -1  \n",
      "4271     -1.0        -1  \n",
      "4272     -1.0        -1  \n",
      "4273     -1.0        -1  \n",
      "4274     -1.0        -1  \n",
      "4275     -1.0        -1  \n",
      "4276     -1.0        -1  \n",
      "4277     -1.0        -1  \n",
      "4278     -1.0        -1  \n",
      "4279     -1.0        -1  \n",
      "4280     -1.0        -1  \n",
      "4281     -1.0        -1  \n",
      "4282     -1.0        -1  \n",
      "4283     -1.0        -1  \n",
      "4284     -1.0        -1  \n",
      "4285     -1.0        -1  \n",
      "4286     -1.0        -1  \n",
      "4287     -1.0        -1  \n",
      "4288     -1.0        -1  \n",
      "4289     -1.0        -1  \n",
      "\n",
      "[4290 rows x 8 columns]\n"
     ]
    }
   ],
   "source": [
    "from ib_insync import *\n",
    "util.startLoop()  # uncomment this line when in a notebook\n",
    "\n",
    "ib = IB()\n",
    "ib.connect('127.0.0.1', 7496, clientId=2)\n",
    "\n",
    "contract = Forex('EURUSD')\n",
    "bars = ib.reqHistoricalData(\n",
    "    contract, endDateTime='', durationStr='180 D',\n",
    "    barSizeSetting='1 hour', whatToShow='MIDPOINT', useRTH=True)\n",
    "\n",
    "# convert to pandas dataframe:\n",
    "df = util.df(bars)\n",
    "print(df)"
   ]
  },
  {
   "cell_type": "code",
   "execution_count": null,
   "metadata": {},
   "outputs": [],
   "source": []
  },
  {
   "cell_type": "code",
   "execution_count": 16,
   "metadata": {},
   "outputs": [
    {
     "name": "stdout",
     "output_type": "stream",
     "text": [
      "[NewsProvider(code='BRFG', name='Briefing.com General Market Columns'), NewsProvider(code='BRFUPDN', name='Briefing.com Analyst Actions'), NewsProvider(code='DJNL', name='Dow Jones Newsletters')]\n"
     ]
    },
    {
     "ename": "IndexError",
     "evalue": "list index out of range",
     "output_type": "error",
     "traceback": [
      "\u001b[0;31m---------------------------------------------------------------------------\u001b[0m",
      "\u001b[0;31mIndexError\u001b[0m                                Traceback (most recent call last)",
      "\u001b[0;32m<ipython-input-16-133891fdeaaa>\u001b[0m in \u001b[0;36m<module>\u001b[0;34m\u001b[0m\n\u001b[1;32m      5\u001b[0m \u001b[0mib\u001b[0m\u001b[0;34m.\u001b[0m\u001b[0mqualifyContracts\u001b[0m\u001b[0;34m(\u001b[0m\u001b[0mamd\u001b[0m\u001b[0;34m)\u001b[0m\u001b[0;34m\u001b[0m\u001b[0;34m\u001b[0m\u001b[0m\n\u001b[1;32m      6\u001b[0m \u001b[0mheadlines\u001b[0m \u001b[0;34m=\u001b[0m \u001b[0mib\u001b[0m\u001b[0;34m.\u001b[0m\u001b[0mreqHistoricalNews\u001b[0m\u001b[0;34m(\u001b[0m\u001b[0mamd\u001b[0m\u001b[0;34m.\u001b[0m\u001b[0mconId\u001b[0m\u001b[0;34m,\u001b[0m \u001b[0mcodes\u001b[0m\u001b[0;34m,\u001b[0m \u001b[0;34m''\u001b[0m\u001b[0;34m,\u001b[0m \u001b[0;34m''\u001b[0m\u001b[0;34m,\u001b[0m \u001b[0;36m10\u001b[0m\u001b[0;34m)\u001b[0m\u001b[0;34m\u001b[0m\u001b[0;34m\u001b[0m\u001b[0m\n\u001b[0;32m----> 7\u001b[0;31m \u001b[0mlatest\u001b[0m \u001b[0;34m=\u001b[0m \u001b[0mheadlines\u001b[0m\u001b[0;34m[\u001b[0m\u001b[0;36m0\u001b[0m\u001b[0;34m]\u001b[0m\u001b[0;34m\u001b[0m\u001b[0;34m\u001b[0m\u001b[0m\n\u001b[0m\u001b[1;32m      8\u001b[0m \u001b[0mprint\u001b[0m\u001b[0;34m(\u001b[0m\u001b[0mlatest\u001b[0m\u001b[0;34m)\u001b[0m\u001b[0;34m\u001b[0m\u001b[0;34m\u001b[0m\u001b[0m\n\u001b[1;32m      9\u001b[0m \u001b[0marticle\u001b[0m \u001b[0;34m=\u001b[0m \u001b[0mib\u001b[0m\u001b[0;34m.\u001b[0m\u001b[0mreqNewsArticle\u001b[0m\u001b[0;34m(\u001b[0m\u001b[0mlatest\u001b[0m\u001b[0;34m.\u001b[0m\u001b[0mproviderCode\u001b[0m\u001b[0;34m,\u001b[0m \u001b[0mlatest\u001b[0m\u001b[0;34m.\u001b[0m\u001b[0marticleId\u001b[0m\u001b[0;34m)\u001b[0m\u001b[0;34m\u001b[0m\u001b[0;34m\u001b[0m\u001b[0m\n",
      "\u001b[0;31mIndexError\u001b[0m: list index out of range"
     ]
    }
   ],
   "source": [
    "newsProviders = ib.reqNewsProviders()\n",
    "print(newsProviders)\n",
    "codes = '+'.join(np.code for np in newsProviders)\n",
    "amd = Stock('AAPL', 'SMART', 'USD')\n",
    "ib.qualifyContracts(amd)\n",
    "headlines = ib.reqHistoricalNews(amd.conId, codes, '', '', 10)\n",
    "latest = headlines[0]\n",
    "print(latest)\n",
    "article = ib.reqNewsArticle(latest.providerCode, latest.articleId)\n",
    "print(article)"
   ]
  },
  {
   "cell_type": "code",
   "execution_count": 13,
   "metadata": {},
   "outputs": [
    {
     "data": {
      "text/plain": [
       "[]"
      ]
     },
     "execution_count": 13,
     "metadata": {},
     "output_type": "execute_result"
    }
   ],
   "source": [
    "headlines"
   ]
  },
  {
   "cell_type": "code",
   "execution_count": 14,
   "metadata": {},
   "outputs": [
    {
     "data": {
      "text/plain": [
       "265598"
      ]
     },
     "execution_count": 14,
     "metadata": {},
     "output_type": "execute_result"
    }
   ],
   "source": [
    "amd.conId"
   ]
  },
  {
   "cell_type": "code",
   "execution_count": 15,
   "metadata": {},
   "outputs": [
    {
     "data": {
      "text/plain": [
       "'BRFG+BRFUPDN+DJNL'"
      ]
     },
     "execution_count": 15,
     "metadata": {},
     "output_type": "execute_result"
    }
   ],
   "source": [
    "codes"
   ]
  },
  {
   "cell_type": "code",
   "execution_count": 26,
   "metadata": {},
   "outputs": [
    {
     "name": "stdout",
     "output_type": "stream",
     "text": [
      "Dividends(past12Months=3.13, next12Months=3.31, nextDate=datetime.date(2020, 8, 7), nextAmount=0.82)\n"
     ]
    }
   ],
   "source": [
    "contract = Stock('AAPL', 'SMART', 'USD')\n",
    "ticker = ib.reqMktData(contract, '456')\n",
    "ib.sleep(2)\n",
    "print(ticker.dividends)"
   ]
  },
  {
   "cell_type": "code",
   "execution_count": 27,
   "metadata": {},
   "outputs": [
    {
     "name": "stdout",
     "output_type": "stream",
     "text": [
      "[]\n"
     ]
    },
    {
     "ename": "TypeError",
     "evalue": "object of type 'NoneType' has no len()",
     "output_type": "error",
     "traceback": [
      "\u001b[0;31m---------------------------------------------------------------------------\u001b[0m",
      "\u001b[0;31mTypeError\u001b[0m                                 Traceback (most recent call last)",
      "\u001b[0;32m<ipython-input-27-797150a38a67>\u001b[0m in \u001b[0;36m<module>\u001b[0;34m\u001b[0m\n\u001b[1;32m      4\u001b[0m \u001b[0mprint\u001b[0m\u001b[0;34m(\u001b[0m\u001b[0mcalc\u001b[0m\u001b[0;34m)\u001b[0m\u001b[0;34m\u001b[0m\u001b[0;34m\u001b[0m\u001b[0m\n\u001b[1;32m      5\u001b[0m calc = ib.calculateOptionPrice(\n\u001b[0;32m----> 6\u001b[0;31m option, volatility=0.14, underPrice=525)\n\u001b[0m\u001b[1;32m      7\u001b[0m \u001b[0mprint\u001b[0m\u001b[0;34m(\u001b[0m\u001b[0mcalc\u001b[0m\u001b[0;34m)\u001b[0m\u001b[0;34m\u001b[0m\u001b[0;34m\u001b[0m\u001b[0m\n",
      "\u001b[0;32m~/anaconda3/lib/python3.7/site-packages/ib_insync/ib.py\u001b[0m in \u001b[0;36mcalculateOptionPrice\u001b[0;34m(self, contract, volatility, underPrice, optPrcOptions)\u001b[0m\n\u001b[1;32m   1455\u001b[0m         return self._run(\n\u001b[1;32m   1456\u001b[0m             self.calculateOptionPriceAsync(\n\u001b[0;32m-> 1457\u001b[0;31m                 contract, volatility, underPrice, optPrcOptions))\n\u001b[0m\u001b[1;32m   1458\u001b[0m \u001b[0;34m\u001b[0m\u001b[0m\n\u001b[1;32m   1459\u001b[0m     def reqSecDefOptParams(\n",
      "\u001b[0;32m~/anaconda3/lib/python3.7/site-packages/ib_insync/ib.py\u001b[0m in \u001b[0;36m_run\u001b[0;34m(self, *awaitables)\u001b[0m\n\u001b[1;32m    299\u001b[0m \u001b[0;34m\u001b[0m\u001b[0m\n\u001b[1;32m    300\u001b[0m     \u001b[0;32mdef\u001b[0m \u001b[0m_run\u001b[0m\u001b[0;34m(\u001b[0m\u001b[0mself\u001b[0m\u001b[0;34m,\u001b[0m \u001b[0;34m*\u001b[0m\u001b[0mawaitables\u001b[0m\u001b[0;34m:\u001b[0m \u001b[0mAwaitable\u001b[0m\u001b[0;34m)\u001b[0m\u001b[0;34m:\u001b[0m\u001b[0;34m\u001b[0m\u001b[0;34m\u001b[0m\u001b[0m\n\u001b[0;32m--> 301\u001b[0;31m         \u001b[0;32mreturn\u001b[0m \u001b[0mutil\u001b[0m\u001b[0;34m.\u001b[0m\u001b[0mrun\u001b[0m\u001b[0;34m(\u001b[0m\u001b[0;34m*\u001b[0m\u001b[0mawaitables\u001b[0m\u001b[0;34m,\u001b[0m \u001b[0mtimeout\u001b[0m\u001b[0;34m=\u001b[0m\u001b[0mself\u001b[0m\u001b[0;34m.\u001b[0m\u001b[0mRequestTimeout\u001b[0m\u001b[0;34m)\u001b[0m\u001b[0;34m\u001b[0m\u001b[0;34m\u001b[0m\u001b[0m\n\u001b[0m\u001b[1;32m    302\u001b[0m \u001b[0;34m\u001b[0m\u001b[0m\n\u001b[1;32m    303\u001b[0m     \u001b[0;32mdef\u001b[0m \u001b[0mwaitOnUpdate\u001b[0m\u001b[0;34m(\u001b[0m\u001b[0mself\u001b[0m\u001b[0;34m,\u001b[0m \u001b[0mtimeout\u001b[0m\u001b[0;34m:\u001b[0m \u001b[0mfloat\u001b[0m \u001b[0;34m=\u001b[0m \u001b[0;36m0\u001b[0m\u001b[0;34m)\u001b[0m \u001b[0;34m->\u001b[0m \u001b[0mbool\u001b[0m\u001b[0;34m:\u001b[0m\u001b[0;34m\u001b[0m\u001b[0;34m\u001b[0m\u001b[0m\n",
      "\u001b[0;32m~/anaconda3/lib/python3.7/site-packages/ib_insync/util.py\u001b[0m in \u001b[0;36mrun\u001b[0;34m(timeout, *awaitables)\u001b[0m\n\u001b[1;32m    310\u001b[0m         \u001b[0mglobalErrorEvent\u001b[0m\u001b[0;34m.\u001b[0m\u001b[0mconnect\u001b[0m\u001b[0;34m(\u001b[0m\u001b[0monError\u001b[0m\u001b[0;34m)\u001b[0m\u001b[0;34m\u001b[0m\u001b[0;34m\u001b[0m\u001b[0m\n\u001b[1;32m    311\u001b[0m         \u001b[0;32mtry\u001b[0m\u001b[0;34m:\u001b[0m\u001b[0;34m\u001b[0m\u001b[0;34m\u001b[0m\u001b[0m\n\u001b[0;32m--> 312\u001b[0;31m             \u001b[0mresult\u001b[0m \u001b[0;34m=\u001b[0m \u001b[0mloop\u001b[0m\u001b[0;34m.\u001b[0m\u001b[0mrun_until_complete\u001b[0m\u001b[0;34m(\u001b[0m\u001b[0mtask\u001b[0m\u001b[0;34m)\u001b[0m\u001b[0;34m\u001b[0m\u001b[0;34m\u001b[0m\u001b[0m\n\u001b[0m\u001b[1;32m    313\u001b[0m         \u001b[0;32mexcept\u001b[0m \u001b[0masyncio\u001b[0m\u001b[0;34m.\u001b[0m\u001b[0mCancelledError\u001b[0m \u001b[0;32mas\u001b[0m \u001b[0me\u001b[0m\u001b[0;34m:\u001b[0m\u001b[0;34m\u001b[0m\u001b[0;34m\u001b[0m\u001b[0m\n\u001b[1;32m    314\u001b[0m             \u001b[0;32mraise\u001b[0m \u001b[0mglobalErrorEvent\u001b[0m\u001b[0;34m.\u001b[0m\u001b[0mvalue\u001b[0m\u001b[0;34m(\u001b[0m\u001b[0;34m)\u001b[0m \u001b[0;32mor\u001b[0m \u001b[0me\u001b[0m\u001b[0;34m\u001b[0m\u001b[0;34m\u001b[0m\u001b[0m\n",
      "\u001b[0;32m~/anaconda3/lib/python3.7/site-packages/nest_asyncio.py\u001b[0m in \u001b[0;36mrun_until_complete\u001b[0;34m(self, future)\u001b[0m\n\u001b[1;32m     57\u001b[0m         \u001b[0;32mif\u001b[0m \u001b[0;32mnot\u001b[0m \u001b[0mf\u001b[0m\u001b[0;34m.\u001b[0m\u001b[0mdone\u001b[0m\u001b[0;34m(\u001b[0m\u001b[0;34m)\u001b[0m\u001b[0;34m:\u001b[0m\u001b[0;34m\u001b[0m\u001b[0;34m\u001b[0m\u001b[0m\n\u001b[1;32m     58\u001b[0m             \u001b[0;32mraise\u001b[0m \u001b[0mRuntimeError\u001b[0m\u001b[0;34m(\u001b[0m\u001b[0;34m'Event loop stopped before Future completed.'\u001b[0m\u001b[0;34m)\u001b[0m\u001b[0;34m\u001b[0m\u001b[0;34m\u001b[0m\u001b[0m\n\u001b[0;32m---> 59\u001b[0;31m         \u001b[0;32mreturn\u001b[0m \u001b[0mf\u001b[0m\u001b[0;34m.\u001b[0m\u001b[0mresult\u001b[0m\u001b[0;34m(\u001b[0m\u001b[0;34m)\u001b[0m\u001b[0;34m\u001b[0m\u001b[0;34m\u001b[0m\u001b[0m\n\u001b[0m\u001b[1;32m     60\u001b[0m \u001b[0;34m\u001b[0m\u001b[0m\n\u001b[1;32m     61\u001b[0m     \u001b[0;32mdef\u001b[0m \u001b[0m_run_once\u001b[0m\u001b[0;34m(\u001b[0m\u001b[0mself\u001b[0m\u001b[0;34m)\u001b[0m\u001b[0;34m:\u001b[0m\u001b[0;34m\u001b[0m\u001b[0;34m\u001b[0m\u001b[0m\n",
      "\u001b[0;32m~/anaconda3/lib/python3.7/asyncio/futures.py\u001b[0m in \u001b[0;36mresult\u001b[0;34m(self)\u001b[0m\n\u001b[1;32m    176\u001b[0m         \u001b[0mself\u001b[0m\u001b[0;34m.\u001b[0m\u001b[0m__log_traceback\u001b[0m \u001b[0;34m=\u001b[0m \u001b[0;32mFalse\u001b[0m\u001b[0;34m\u001b[0m\u001b[0;34m\u001b[0m\u001b[0m\n\u001b[1;32m    177\u001b[0m         \u001b[0;32mif\u001b[0m \u001b[0mself\u001b[0m\u001b[0;34m.\u001b[0m\u001b[0m_exception\u001b[0m \u001b[0;32mis\u001b[0m \u001b[0;32mnot\u001b[0m \u001b[0;32mNone\u001b[0m\u001b[0;34m:\u001b[0m\u001b[0;34m\u001b[0m\u001b[0;34m\u001b[0m\u001b[0m\n\u001b[0;32m--> 178\u001b[0;31m             \u001b[0;32mraise\u001b[0m \u001b[0mself\u001b[0m\u001b[0;34m.\u001b[0m\u001b[0m_exception\u001b[0m\u001b[0;34m\u001b[0m\u001b[0;34m\u001b[0m\u001b[0m\n\u001b[0m\u001b[1;32m    179\u001b[0m         \u001b[0;32mreturn\u001b[0m \u001b[0mself\u001b[0m\u001b[0;34m.\u001b[0m\u001b[0m_result\u001b[0m\u001b[0;34m\u001b[0m\u001b[0;34m\u001b[0m\u001b[0m\n\u001b[1;32m    180\u001b[0m \u001b[0;34m\u001b[0m\u001b[0m\n",
      "\u001b[0;32m~/anaconda3/lib/python3.7/asyncio/tasks.py\u001b[0m in \u001b[0;36m__step\u001b[0;34m(***failed resolving arguments***)\u001b[0m\n\u001b[1;32m    221\u001b[0m                 \u001b[0;31m# We use the `send` method directly, because coroutines\u001b[0m\u001b[0;34m\u001b[0m\u001b[0;34m\u001b[0m\u001b[0;34m\u001b[0m\u001b[0m\n\u001b[1;32m    222\u001b[0m                 \u001b[0;31m# don't have `__iter__` and `__next__` methods.\u001b[0m\u001b[0;34m\u001b[0m\u001b[0;34m\u001b[0m\u001b[0;34m\u001b[0m\u001b[0m\n\u001b[0;32m--> 223\u001b[0;31m                 \u001b[0mresult\u001b[0m \u001b[0;34m=\u001b[0m \u001b[0mcoro\u001b[0m\u001b[0;34m.\u001b[0m\u001b[0msend\u001b[0m\u001b[0;34m(\u001b[0m\u001b[0;32mNone\u001b[0m\u001b[0;34m)\u001b[0m\u001b[0;34m\u001b[0m\u001b[0;34m\u001b[0m\u001b[0m\n\u001b[0m\u001b[1;32m    224\u001b[0m             \u001b[0;32melse\u001b[0m\u001b[0;34m:\u001b[0m\u001b[0;34m\u001b[0m\u001b[0;34m\u001b[0m\u001b[0m\n\u001b[1;32m    225\u001b[0m                 \u001b[0mresult\u001b[0m \u001b[0;34m=\u001b[0m \u001b[0mcoro\u001b[0m\u001b[0;34m.\u001b[0m\u001b[0mthrow\u001b[0m\u001b[0;34m(\u001b[0m\u001b[0mexc\u001b[0m\u001b[0;34m)\u001b[0m\u001b[0;34m\u001b[0m\u001b[0;34m\u001b[0m\u001b[0m\n",
      "\u001b[0;32m~/anaconda3/lib/python3.7/site-packages/ib_insync/ib.py\u001b[0m in \u001b[0;36mcalculateOptionPriceAsync\u001b[0;34m(self, contract, volatility, underPrice, optPrcOptions)\u001b[0m\n\u001b[1;32m   1948\u001b[0m         \u001b[0mfuture\u001b[0m \u001b[0;34m=\u001b[0m \u001b[0mself\u001b[0m\u001b[0;34m.\u001b[0m\u001b[0mwrapper\u001b[0m\u001b[0;34m.\u001b[0m\u001b[0mstartReq\u001b[0m\u001b[0;34m(\u001b[0m\u001b[0mreqId\u001b[0m\u001b[0;34m,\u001b[0m \u001b[0mcontract\u001b[0m\u001b[0;34m)\u001b[0m\u001b[0;34m\u001b[0m\u001b[0;34m\u001b[0m\u001b[0m\n\u001b[1;32m   1949\u001b[0m         self.client.calculateOptionPrice(\n\u001b[0;32m-> 1950\u001b[0;31m             reqId, contract, volatility, underPrice, optPrcOptions)\n\u001b[0m\u001b[1;32m   1951\u001b[0m         \u001b[0;32mtry\u001b[0m\u001b[0;34m:\u001b[0m\u001b[0;34m\u001b[0m\u001b[0;34m\u001b[0m\u001b[0m\n\u001b[1;32m   1952\u001b[0m             \u001b[0;32mawait\u001b[0m \u001b[0masyncio\u001b[0m\u001b[0;34m.\u001b[0m\u001b[0mwait_for\u001b[0m\u001b[0;34m(\u001b[0m\u001b[0mfuture\u001b[0m\u001b[0;34m,\u001b[0m \u001b[0;36m4\u001b[0m\u001b[0;34m)\u001b[0m\u001b[0;34m\u001b[0m\u001b[0;34m\u001b[0m\u001b[0m\n",
      "\u001b[0;32m~/anaconda3/lib/python3.7/site-packages/ib_insync/client.py\u001b[0m in \u001b[0;36mcalculateOptionPrice\u001b[0;34m(self, reqId, contract, volatility, underPrice, optPrcOptions)\u001b[0m\n\u001b[1;32m    815\u001b[0m         self.send(\n\u001b[1;32m    816\u001b[0m             \u001b[0;36m55\u001b[0m\u001b[0;34m,\u001b[0m \u001b[0;36m3\u001b[0m\u001b[0;34m,\u001b[0m \u001b[0mreqId\u001b[0m\u001b[0;34m,\u001b[0m \u001b[0mcontract\u001b[0m\u001b[0;34m,\u001b[0m \u001b[0mvolatility\u001b[0m\u001b[0;34m,\u001b[0m \u001b[0munderPrice\u001b[0m\u001b[0;34m,\u001b[0m\u001b[0;34m\u001b[0m\u001b[0;34m\u001b[0m\u001b[0m\n\u001b[0;32m--> 817\u001b[0;31m             len(optPrcOptions), optPrcOptions)\n\u001b[0m\u001b[1;32m    818\u001b[0m \u001b[0;34m\u001b[0m\u001b[0m\n\u001b[1;32m    819\u001b[0m     \u001b[0;32mdef\u001b[0m \u001b[0mcancelCalculateImpliedVolatility\u001b[0m\u001b[0;34m(\u001b[0m\u001b[0mself\u001b[0m\u001b[0;34m,\u001b[0m \u001b[0mreqId\u001b[0m\u001b[0;34m)\u001b[0m\u001b[0;34m:\u001b[0m\u001b[0;34m\u001b[0m\u001b[0;34m\u001b[0m\u001b[0m\n",
      "\u001b[0;31mTypeError\u001b[0m: object of type 'NoneType' has no len()"
     ]
    }
   ],
   "source": [
    "option = Option('EOE', '20171215', 490, 'P', 'FTA', multiplier=100)\n",
    "calc = ib.calculateImpliedVolatility(\n",
    "option, optionPrice=6.1, underPrice=525)\n",
    "print(calc)\n",
    "calc = ib.calculateOptionPrice(\n",
    "option, volatility=0.14, underPrice=525)\n",
    "print(calc)"
   ]
  },
  {
   "cell_type": "code",
   "execution_count": null,
   "metadata": {},
   "outputs": [],
   "source": []
  }
 ],
 "metadata": {
  "kernelspec": {
   "display_name": "Python 3",
   "language": "python",
   "name": "python3"
  },
  "language_info": {
   "codemirror_mode": {
    "name": "ipython",
    "version": 3
   },
   "file_extension": ".py",
   "mimetype": "text/x-python",
   "name": "python",
   "nbconvert_exporter": "python",
   "pygments_lexer": "ipython3",
   "version": "3.7.3"
  }
 },
 "nbformat": 4,
 "nbformat_minor": 2
}
