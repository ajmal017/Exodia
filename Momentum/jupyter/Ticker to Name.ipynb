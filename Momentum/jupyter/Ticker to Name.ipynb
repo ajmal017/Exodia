{
 "cells": [
  {
   "cell_type": "code",
   "execution_count": 2,
   "metadata": {},
   "outputs": [],
   "source": [
    "from bs4 import BeautifulSoup\n",
    "import json\n",
    "import re\n",
    "import requests\n",
    "import json\n",
    "import time\n",
    "import datetime\n",
    "import os"
   ]
  },
  {
   "cell_type": "code",
   "execution_count": 9,
   "metadata": {},
   "outputs": [],
   "source": [
    "def getTickerName(tickerList):\n",
    "    tickerNames = []\n",
    "    for tic in tickerList:\n",
    "        Stocktwits_URL = f'https://api.stocktwits.com/api/2/streams/symbol/{tic}.json?filter=top'\n",
    "        HTML = requests.get(Stocktwits_URL)\n",
    "        data = HTML.json()\n",
    "        \n",
    "        name = data['symbol']['title']\n",
    "        name = name.replace(',','')\n",
    "        name = name.replace('.','')\n",
    "#         name = name.replace('Inc','')\n",
    "#         name = name.replace('Ltd','')\n",
    "#         name = name.replace('Corp','')\n",
    "        name = name.replace('  ',' ')\n",
    "        \n",
    "        if name[-1] == ' ':\n",
    "            name = name[0:-1]\n",
    "        tickerNames += [name]\n",
    "        \n",
    "    complete = {tickerList[i]:tickerNames[i] for i in range(len(tickerList))}\n",
    "    \n",
    "    old_data = {}\n",
    "    if os.path.isfile('./ticker-dict.json'):\n",
    "        with open('ticker-dict.json','r') as JSON:\n",
    "            old_data = json.load(JSON)\n",
    "            JSON.close()\n",
    "    \n",
    "    for dic in complete:\n",
    "        old_data[dic] = complete[dic]\n",
    "    \n",
    "    with open('ticker-dict.json','w') as JSON:\n",
    "        json.dump(old_data,JSON)\n",
    "        JSON.close()"
   ]
  },
  {
   "cell_type": "code",
   "execution_count": 10,
   "metadata": {},
   "outputs": [
    {
     "name": "stdout",
     "output_type": "stream",
     "text": [
      "Done\n"
     ]
    }
   ],
   "source": [
    "tickers = ['UONE','INO','GNUS']\n",
    "\n",
    "getTickerName(tickers)"
   ]
  },
  {
   "cell_type": "code",
   "execution_count": null,
   "metadata": {},
   "outputs": [],
   "source": []
  }
 ],
 "metadata": {
  "kernelspec": {
   "display_name": "Python 3",
   "language": "python",
   "name": "python3"
  },
  "language_info": {
   "codemirror_mode": {
    "name": "ipython",
    "version": 3
   },
   "file_extension": ".py",
   "mimetype": "text/x-python",
   "name": "python",
   "nbconvert_exporter": "python",
   "pygments_lexer": "ipython3",
   "version": "3.7.3"
  }
 },
 "nbformat": 4,
 "nbformat_minor": 2
}
