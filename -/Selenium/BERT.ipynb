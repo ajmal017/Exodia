{
 "cells": [
  {
   "cell_type": "code",
   "execution_count": 2,
   "metadata": {},
   "outputs": [],
   "source": [
    "from summarizer import Summarizer\n"
   ]
  },
  {
   "cell_type": "code",
   "execution_count": 4,
   "metadata": {},
   "outputs": [],
   "source": [
    "class PythonPredictor:\n",
    "    def __init__(self, config):\n",
    "        self.model = Summarizer()\n",
    "\n",
    "    def predict(self, payload):\n",
    "        return self.model(payload[\"text\"])"
   ]
  },
  {
   "cell_type": "code",
   "execution_count": 36,
   "metadata": {},
   "outputs": [],
   "source": [
    "text = \"\"\"\n",
    "First Quarter Highlights\n",
    "• March 31, 2020: The Company completed the work required to develop a well-constrained geological\n",
    "model of the Saddle North gold-rich copper porphyry in northern British Columbia. Published in April,\n",
    "the model comprises a robust three-dimensional digital representation of lithology, alteration,\n",
    "mineralization and structure, which will be used as the basis for both the initial mineral resource\n",
    "estimate anticipated to be released by the end of June 2020, as well as a Preliminary Economic\n",
    "Assessment for Saddle North expected by year-end.\n",
    "• February 20, 2020: GT Gold reported positive results for initial metallurgical test work on two composite\n",
    "samples from the Saddle North Cu-Au porphyry, showing favourable recoveries for both high- and\n",
    "lower-grade composites as well as the potential for a simple, conventional flowsheet for Saddle North\n",
    "style mineralization.\n",
    "• January 16, 2020: The Company announced the results from the final holes of the 2019 drilling\n",
    "program at the Saddle South Au-Ag vein target.\n",
    "“We are extremely pleased with our progress made to date in 2020,” commented Paul Harbidge, President\n",
    "and Chief Executive Officer. “Despite the onset of the global COVID-19 pandemic, we have successfully\n",
    "advanced the Saddle North project technicals on schedule and continue to expect to deliver an inaugural\n",
    "resource by the end of next month. As we progress toward the summer field season, we continue to prioritize\n",
    "the safety and protection of all employees and community members. We are fortunate that the Tahltan Central\n",
    "Government has provided ongoing clear communication of expectations for cautions and protocols required\n",
    "for work in Tahltan Territory and GT Gold will continue to align all work preparations according to both the\n",
    "saftety requirements established by the Tahltan, as well as those outlined by the B.C. Provincial Health\n",
    "Officer.”\n",
    "At March 31, 2020, the Company had a cash position of C$14.4 million, which is expected to be sufficient to\n",
    "fund all expenditures up to and including the Preliminary Economic Assessment (“PEA”), as well as to provide\n",
    "a sizeable buffer for work following the PEA into 2021, to be planned based on the results of the 2020 technical\n",
    "program.\n",
    "\"\"\"\n",
    "title = \"\"\"GTGold Quarterly Report\"\"\""
   ]
  },
  {
   "cell_type": "code",
   "execution_count": 21,
   "metadata": {},
   "outputs": [
    {
     "data": {
      "text/plain": [
       "['I think it came from prioritising my happiness above other peoples’ and being curious to see what the outcomes of my actions would be.',\n",
       " 'I was too focused on being happy right now to think about the outcomes of my actions.',\n",
       " 'After the damage was done, I would feel horrible but forget about that feeling and do it again the next day.',\n",
       " 'Do you think they would say those things about you if you died today?”',\n",
       " 'I wanted people to say that I was:\\n\\nKind\\nDriven\\nFun to be around\\nAnd none of those reflected my actions, so I started to change.',\n",
       " 'I started to pause before doing mischievous things to think about the outcome on peoples’ perception of me.',\n",
       " 'Today I don’t think there are only 3 things I want people to say about me when I die\\u200a—\\u200aI think there are a lot more.',\n",
       " 'I made a list of all the things I think make an ideal person.',\n",
       " \"Which can be generalised as:\\n\\nHas emotional control\\nIsn’t a slave to external factors \\nUnderstands themselves and the cause of their actions\\nCares deeply for themselves and for others\\nIs ambitious\\nIs optimistic\\nUnderstanding what I want to become -> understanding how I'll become.\",\n",
       " 'So, understanding what you desire is the best way to understand what your experience should be.',\n",
       " 'There is a seemingly infinite amount of choices I could make, but only a finite amount of choices align with my desire of an ideal person\\u200a—\\u200aI just need to figure out what those are.',\n",
       " 'As you experience more, desire reaches a local minimum where you understand what your priorities are relative to your environment.',\n",
       " 'Experience passed on through many millennia of generations (through stories and genetic influence) have conditioned us to desire things hierarchically.',\n",
       " 'If someone does a “bad” thing, like stealing or putting another person down, it’s because their primary stack isn’t fulfilled.',\n",
       " 'Seeking understanding and beauty (in nature, in art, etc) are forms of value extraction.',\n",
       " 'If you don’t know who you are and who you want to be, you’ll become what other people want you to be.']"
      ]
     },
     "execution_count": 21,
     "metadata": {},
     "output_type": "execute_result"
    }
   ],
   "source": [
    "from summarizer import summarize\n",
    "fraction = len(text.split('.'))//3\n",
    "summarize(title, text, count=fraction)"
   ]
  },
  {
   "cell_type": "code",
   "execution_count": 27,
   "metadata": {},
   "outputs": [
    {
     "name": "stdout",
     "output_type": "stream",
     "text": [
      "Dictionary(60 unique tokens: ['Saudis', 'The', 'a', 'acknowledge', 'are']...)\n"
     ]
    }
   ],
   "source": [
    "import gensim\n",
    "from gensim import corpora\n",
    "from pprint import pprint\n",
    "\n",
    "# How to create a dictionary from a list of sentences?\n",
    "documents = [\"The Saudis are preparing a report that will acknowledge that\", \n",
    "             \"Saudi journalist Jamal Khashoggi's death was the result of an\", \n",
    "             \"interrogation that went wrong, one that was intended to lead\", \n",
    "             \"to his abduction from Turkey, according to two sources.\"]\n",
    "\n",
    "documents_2 = [\"One source says the report will likely conclude that\", \n",
    "                \"the operation was carried out without clearance and\", \n",
    "                \"transparency and that those involved will be held\", \n",
    "                \"responsible. One of the sources acknowledged that the\", \n",
    "                \"report is still being prepared and cautioned that\", \n",
    "                \"things could change.\"]\n",
    "\n",
    "# Tokenize(split) the sentences into words\n",
    "texts = [[text for text in doc.split()] for doc in documents]\n",
    "\n",
    "texts_2 = [[text for text in doc.split()] for doc in documents_2]\n",
    "\n",
    "# Create dictionary\n",
    "dictionary = corpora.Dictionary(texts)\n",
    "dictionary.add_documents(texts_2)\n",
    "\n",
    "# Get information about the dictionary\n",
    "print(dictionary)"
   ]
  },
  {
   "cell_type": "code",
   "execution_count": 28,
   "metadata": {},
   "outputs": [
    {
     "name": "stdout",
     "output_type": "stream",
     "text": [
      "{'Saudis': 0, 'The': 1, 'a': 2, 'acknowledge': 3, 'are': 4, 'preparing': 5, 'report': 6, 'that': 7, 'will': 8, 'Jamal': 9, \"Khashoggi's\": 10, 'Saudi': 11, 'an': 12, 'death': 13, 'journalist': 14, 'of': 15, 'result': 16, 'the': 17, 'was': 18, 'intended': 19, 'interrogation': 20, 'lead': 21, 'one': 22, 'to': 23, 'went': 24, 'wrong,': 25, 'Turkey,': 26, 'abduction': 27, 'according': 28, 'from': 29, 'his': 30, 'sources.': 31, 'two': 32, 'One': 33, 'conclude': 34, 'likely': 35, 'says': 36, 'source': 37, 'and': 38, 'carried': 39, 'clearance': 40, 'operation': 41, 'out': 42, 'without': 43, 'be': 44, 'held': 45, 'involved': 46, 'those': 47, 'transparency': 48, 'acknowledged': 49, 'responsible.': 50, 'sources': 51, 'being': 52, 'cautioned': 53, 'is': 54, 'prepared': 55, 'still': 56, 'change.': 57, 'could': 58, 'things': 59}\n"
     ]
    }
   ],
   "source": [
    "print(dictionary.token2id)"
   ]
  },
  {
   "cell_type": "code",
   "execution_count": 94,
   "metadata": {},
   "outputs": [
    {
     "name": "stderr",
     "output_type": "stream",
     "text": [
      "/home/lukepiette/anaconda3/lib/python3.7/site-packages/ipykernel_launcher.py:22: DeprecationWarning: Call to deprecated `__getitem__` (Method will be removed in 4.0.0, use self.wv.__getitem__() instead).\n"
     ]
    },
    {
     "data": {
      "image/png": "[encoded data removed]",
      "text/plain": [
       "<Figure size 432x288 with 1 Axes>"
      ]
     },
     "metadata": {
      "needs_background": "light"
     },
     "output_type": "display_data"
    }
   ],
   "source": [
    "from gensim.models import KeyedVectors\n",
    "from gensim.models import Word2Vec\n",
    "from sklearn.decomposition import PCA\n",
    "from matplotlib import pyplot\n",
    "\n",
    "# sentences = [['this', 'is', 'the', 'first', 'sentence', 'for', 'word2vec'],\n",
    "#             ['this', 'is', 'the', 'second', 'sentence'],\n",
    "#             ['yet', 'another', 'sentence'],\n",
    "#             ['one', 'more', 'sentence'],\n",
    "#             ['and', 'the', 'final', 'sentence']]\n",
    "\n",
    "doc1 = \"Obama speaks to the media in Chicago\"\n",
    "doc2 = \"The President greets the press in Illinois\"\n",
    "text = doc1 + \".\" + doc2\n",
    "text = text.replace('\\n',' ')\n",
    "sentences = [list(filter(lambda a: a != '' and a != ':' and a != '•', text.split('.')[i].split(' '))) for i in range(len(text.split('.')))]\n",
    "\n",
    "# train model\n",
    "model_1 = Word2Vec(sentences, size=300, min_count=1)\n",
    "\n",
    "# fit a 2d PCA model to the vectors\n",
    "X = model_1[model_1.wv.vocab]\n",
    "pca = PCA(n_components=2)\n",
    "result = pca.fit_transform(X)\n",
    "# create a scatter plot of the projection\n",
    "pyplot.scatter(result[:, 0], result[:, 1])\n",
    "words = list(model_1.wv.vocab)\n",
    "for i, word in enumerate(words):\n",
    "    pyplot.annotate(word, xy=(result[i, 0], result[i, 1]))\n",
    "pyplot.show()"
   ]
  },
  {
   "cell_type": "code",
   "execution_count": 95,
   "metadata": {},
   "outputs": [
    {
     "name": "stderr",
     "output_type": "stream",
     "text": [
      "/home/lukepiette/anaconda3/lib/python3.7/site-packages/ipykernel_launcher.py:7: DeprecationWarning: Call to deprecated `iter` (Attribute will be removed in 4.0.0, use self.epochs instead).\n",
      "  import sys\n",
      "/home/lukepiette/anaconda3/lib/python3.7/site-packages/ipykernel_launcher.py:10: DeprecationWarning: Call to deprecated `__getitem__` (Method will be removed in 4.0.0, use self.wv.__getitem__() instead).\n",
      "  # Remove the CWD from sys.path while we load stuff.\n"
     ]
    }
   ],
   "source": [
    "model_2 = Word2Vec(size=300, min_count=1)\n",
    "model_2.build_vocab(sentences)\n",
    "total_examples = model_2.corpus_count\n",
    "model = KeyedVectors.load_word2vec_format(\"glove.6B.300d.txt.w2vformat.txt\", binary=False)\n",
    "model_2.build_vocab([list(model.vocab.keys())], update=True)\n",
    "model_2.intersect_word2vec_format(\"glove.6B.300d.txt.w2vformat.txt\", binary=False, lockf=1.0)\n",
    "model_2.train(sentences, total_examples=total_examples, epochs=model_2.iter)\n",
    "\n",
    "# fit a 2d PCA model to the vectors\n",
    "X = model_2[model_1.wv.vocab]\n",
    "pca = PCA(n_components=2)\n",
    "result = pca.fit_transform(X)"
   ]
  },
  {
   "cell_type": "code",
   "execution_count": 96,
   "metadata": {},
   "outputs": [
    {
     "data": {
      "image/png": "[encoded data removed]",
      "text/plain": [
       "<Figure size 432x288 with 1 Axes>"
      ]
     },
     "metadata": {
      "needs_background": "light"
     },
     "output_type": "display_data"
    }
   ],
   "source": [
    "# create a scatter plot of the projection\n",
    "pyplot.scatter(result[:, 0], result[:, 1])\n",
    "words = list(model_1.wv.vocab)\n",
    "for i, word in enumerate(words):\n",
    "    pyplot.annotate(word, xy=(result[i, 0], result[i, 1]))\n",
    "pyplot.show()"
   ]
  },
  {
   "cell_type": "code",
   "execution_count": 93,
   "metadata": {},
   "outputs": [],
   "source": [
    "doc1 = \"Obama speaks to the media in Chicago\"\n",
    "doc2 = \"The President greets the press in Illinois\"\n",
    "text = doc1 + \".\" + doc2"
   ]
  },
  {
   "cell_type": "code",
   "execution_count": null,
   "metadata": {},
   "outputs": [],
   "source": [
    "success = \"\"\"\n",
    "accomplishment\n",
    "achievement\n",
    "advance\n",
    "benefit\n",
    "boom\n",
    "fame\n",
    "gain\n",
    "happiness\n",
    "profit\n",
    "progress\n",
    "prosperity\n",
    "realization\n",
    "triumph\n",
    "victory\n",
    "win\n",
    "arrival\n",
    "ascendancy\n",
    "attainment\n",
    "clover\n",
    "consummation\n",
    "eminence\n",
    "fortune\n",
    "fruition\n",
    "hit\n",
    "killing\n",
    "laugher\n",
    "maturation\n",
    "reward\n",
    "\"\"\""
   ]
  },
  {
   "cell_type": "code",
   "execution_count": 112,
   "metadata": {},
   "outputs": [],
   "source": [
    "text = \"\"\"\n",
    "COVID-19 Response\n",
    "In response to the challenges posed by the COVID-19 pandemic, GT Gold has taken steps to support the\n",
    "health and safety of its employees and contractors. The Company has limited in-person meetings, postponed\n",
    "business travel and mandated work from home where possible. Where work is being undertaken on drill core,\n",
    "the Company’s workforce has been reduced to minimum personnel working under social distancing of two\n",
    "metres. The Company is monitoring the situation and will act as recommended by the Federal and Provincial\n",
    "governments. In addition, the Company has been in communications with the Tahltan Central Government\n",
    "and is abiding by the protocols established within the Tahltan Territory, in which GT Gold’s 100% owned\n",
    "Tatogga Project is located.\n",
    "Technical Update\n",
    "As at the end of March 2020, the 31,400-metre re-logging of Saddle North Cu-Au porphyry core has been\n",
    "completed. Hand drawn sections and level plans of the interpreted data have been created, scanned and\n",
    "georeferenced. These sections have been used to guide building a software-based 3D geological model. The\n",
    "Company will host a technical webcast scheduled for April 29, 2020 at 10:00am Pacific (1:00pm Eastern) to\n",
    "present the geological model and review exploration plans. Participants may access the webcast call as\n",
    "follows:\n",
    " Online on the Company website at www.gtgoldcorp.ca\n",
    "or via the direct link: https://edge.media-server.com/mmc/p/8dkog46v\n",
    " By phone at 1-888-337-1150 toll free in Canada or the U.S., or at 1-956-394-3454 internationally\n",
    " A recorded playback of the conference call will be available until May 6, 2020 by calling toll free\n",
    "1-855-859-2056, or 1-404-537-3406 outside of the U.S. and Canada, conference ID 3484372. An\n",
    "archived webcast will also be available for 12 months at www.gtgoldcorp.ca.\n",
    "With the completion of the geological model, the initial resource estimate for Saddle North is expected to be\n",
    "completed by the end of the second quarter of 2020. The Preliminary Economic Assessment (“PEA”) study\n",
    "for Saddle North is currently on schedule for the fourth quarter of 2020.\n",
    "“The delivery of the geological model is another milestone for GT Gold and will form the foundation to support\n",
    "an initial resource estimate in the second quarter of this year”, said Paul Harbidge, President and CEO.\n",
    "Harbidge continued, “GT Gold is in a fortunate position having raised funds in December, which can support\n",
    "both field and office-based operations for an extended period. While the implementation of the 2020 field\n",
    "season is pending, GT Gold has the technical data required to advance the project work in terms of resource\n",
    "estimate, PEA preparation and exploration targeting”.\n",
    "The program for the 2020 field season has been planned and would typically commence towards the end of\n",
    "May. It will be executed depending on how the COVID-19 pandemic unfolds and will be implemented based\n",
    "on Federal, Provincial and Tahltan Nation guidelines.\n",
    "\"\"\"\n",
    "title = \"\"\"GTGold Quarterly Report\"\"\""
   ]
  },
  {
   "cell_type": "code",
   "execution_count": 113,
   "metadata": {},
   "outputs": [
    {
     "name": "stdout",
     "output_type": "stream",
     "text": [
      "0.0\n",
      "-0.03571428571428571\n",
      "0.03333333333333333\n",
      "0.0\n",
      "0.0\n",
      "0.0\n",
      "0.0\n",
      "0.0\n",
      "0.0\n",
      "0.21666666666666667\n",
      "0.4\n",
      "-0.03333333333333333\n",
      "0.06666666666666667\n",
      "0.0\n",
      "0.4\n",
      "0.0\n",
      "-0.16666666666666666\n",
      "0.0\n"
     ]
    }
   ],
   "source": [
    "from textblob import TextBlob\n",
    "\n",
    "\n",
    "blob = TextBlob(text)\n",
    "blob.tags           # [('The', 'DT'), ('titular', 'JJ'),\n",
    "                    #  ('threat', 'NN'), ('of', 'IN'), ...]\n",
    "\n",
    "blob.noun_phrases   # WordList(['titular threat', 'blob',\n",
    "                    #            'ultimate movie monster',\n",
    "                    #            'amoeba-like mass', ...])\n",
    "\n",
    "for sentence in blob.sentences:\n",
    "    print(sentence.sentiment.polarity)\n",
    "# 0.060\n",
    "# -0.341"
   ]
  },
  {
   "cell_type": "code",
   "execution_count": 114,
   "metadata": {
    "scrolled": false
   },
   "outputs": [
    {
     "name": "stdout",
     "output_type": "stream",
     "text": [
      "\n",
      "COVID-19 Response\n",
      "In response to the challenges posed by the COVID-19 pandemic, GT Gold has taken steps to support the\n",
      "health and safety of its employees and contractors\n",
      "\n",
      " The Company has limited in-person meetings, postponed\n",
      "business travel and mandated work from home where possible\n",
      "\n",
      " Where work is being undertaken on drill core,\n",
      "the Company’s workforce has been reduced to minimum personnel working under social distancing of two\n",
      "metres\n",
      "\n",
      " The Company is monitoring the situation and will act as recommended by the Federal and Provincial\n",
      "governments\n",
      "\n",
      " In addition, the Company has been in communications with the Tahltan Central Government\n",
      "and is abiding by the protocols established within the Tahltan Territory, in which GT Gold’s 100% owned\n",
      "Tatogga Project is located\n",
      "\n",
      "\n",
      "Technical Update\n",
      "As at the end of March 2020, the 31,400-metre re-logging of Saddle North Cu-Au porphyry core has been\n",
      "completed\n",
      "\n",
      " Hand drawn sections and level plans of the interpreted data have been created, scanned and\n",
      "georeferenced\n",
      "\n",
      " These sections have been used to guide building a software-based 3D geological model\n",
      "\n",
      " The\n",
      "Company will host a technical webcast scheduled for April 29, 2020 at 10:00am Pacific (1:00pm Eastern) to\n",
      "present the geological model and review exploration plans\n",
      "\n",
      " Participants may access the webcast call as\n",
      "follows:\n",
      " Online on the Company website at www\n",
      "\n",
      "gtgoldcorp\n",
      "\n",
      "ca\n",
      "or via the direct link: https://edge\n",
      "\n",
      "media-server\n",
      "\n",
      "com/mmc/p/8dkog46v\n",
      " By phone at 1-888-337-1150 toll free in Canada or the U\n",
      "\n",
      "S\n",
      "\n",
      ", or at 1-956-394-3454 internationally\n",
      " A recorded playback of the conference call will be available until May 6, 2020 by calling toll free\n",
      "1-855-859-2056, or 1-404-537-3406 outside of the U\n",
      "\n",
      "S\n",
      "\n",
      " and Canada, conference ID 3484372\n",
      "\n",
      " An\n",
      "archived webcast will also be available for 12 months at www\n",
      "\n",
      "gtgoldcorp\n",
      "\n",
      "ca\n",
      "\n",
      "\n",
      "With the completion of the geological model, the initial resource estimate for Saddle North is expected to be\n",
      "completed by the end of the second quarter of 2020\n",
      "\n",
      " The Preliminary Economic Assessment (“PEA”) study\n",
      "for Saddle North is currently on schedule for the fourth quarter of 2020\n",
      "\n",
      "\n",
      "“The delivery of the geological model is another milestone for GT Gold and will form the foundation to support\n",
      "an initial resource estimate in the second quarter of this year”, said Paul Harbidge, President and CEO\n",
      "\n",
      "\n",
      "Harbidge continued, “GT Gold is in a fortunate position having raised funds in December, which can support\n",
      "both field and office-based operations for an extended period\n",
      "\n",
      " While the implementation of the 2020 field\n",
      "season is pending, GT Gold has the technical data required to advance the project work in terms of resource\n",
      "estimate, PEA preparation and exploration targeting”\n",
      "\n",
      "\n",
      "The program for the 2020 field season has been planned and would typically commence towards the end of\n",
      "May\n",
      "\n",
      " It will be executed depending on how the COVID-19 pandemic unfolds and will be implemented based\n",
      "on Federal, Provincial and Tahltan Nation guidelines\n",
      "\n",
      "\n",
      "\n",
      "\n"
     ]
    },
    {
     "data": {
      "text/plain": [
       "[None,\n",
       " None,\n",
       " None,\n",
       " None,\n",
       " None,\n",
       " None,\n",
       " None,\n",
       " None,\n",
       " None,\n",
       " None,\n",
       " None,\n",
       " None,\n",
       " None,\n",
       " None,\n",
       " None,\n",
       " None,\n",
       " None,\n",
       " None,\n",
       " None,\n",
       " None,\n",
       " None,\n",
       " None,\n",
       " None,\n",
       " None,\n",
       " None,\n",
       " None,\n",
       " None,\n",
       " None,\n",
       " None]"
      ]
     },
     "execution_count": 114,
     "metadata": {},
     "output_type": "execute_result"
    }
   ],
   "source": [
    "[print(i + \"\\n\") for i in text.split('.')]"
   ]
  },
  {
   "cell_type": "code",
   "execution_count": null,
   "metadata": {},
   "outputs": [],
   "source": []
  },
  {
   "cell_type": "code",
   "execution_count": null,
   "metadata": {},
   "outputs": [],
   "source": []
  }
 ],
 "metadata": {
  "kernelspec": {
   "display_name": "Python 3",
   "language": "python",
   "name": "python3"
  },
  "language_info": {
   "codemirror_mode": {
    "name": "ipython",
    "version": 3
   },
   "file_extension": ".py",
   "mimetype": "text/x-python",
   "name": "python",
   "nbconvert_exporter": "python",
   "pygments_lexer": "ipython3",
   "version": "3.7.3"
  }
 },
 "nbformat": 4,
 "nbformat_minor": 2
}
