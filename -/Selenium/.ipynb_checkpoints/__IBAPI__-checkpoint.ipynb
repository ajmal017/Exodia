{
 "cells": [
  {
   "cell_type": "code",
   "execution_count": 20,
   "metadata": {},
   "outputs": [],
   "source": [
    "from ibapi.client import EClient\n",
    "from ibapi.wrapper import EWrapper\n",
    "from ibapi.contract import Contract\n",
    "from ibapi.ticktype import TickTypeEnum\n",
    "\n",
    "# https://www.youtube.com/watch?v=aSdi667LGp0"
   ]
  },
  {
   "cell_type": "code",
   "execution_count": 2,
   "metadata": {},
   "outputs": [],
   "source": [
    "# Useful analysis:\n",
    "# ICHIMOKU cloud analysis "
   ]
  },
  {
   "cell_type": "code",
   "execution_count": 3,
   "metadata": {},
   "outputs": [],
   "source": [
    "class TestApp(EWrapper, EClient):\n",
    "    def __init__(self):\n",
    "        EClient.__init__(self, self)\n",
    "        \n",
    "    def error(self, reqId, errorCode, errorString):\n",
    "        print(\"Error: \", reqId, \" \", errorCode, \" \", errorString)\n",
    "        \n",
    "    def tickPrice(self, reqId, tickType, price, attrib):\n",
    "        print(\"Tock Price. Ticker Id: \", reqId, \"tickType: \", TickTypeEnum.to_str(tickType), \"Price: \", price, end=' ')\n",
    "        \n",
    "    def tickSize(self, reqId, tickType, size):\n",
    "        print(\"Tick Size. Ticker Id: \", reqId, \"tickType: \", TickTypeEnum.to_str(tickType), \"Size: \", size)"
   ]
  },
  {
   "cell_type": "code",
   "execution_count": 18,
   "metadata": {},
   "outputs": [],
   "source": [
    "dataTickers = \"62\"\n",
    "\n",
    "def main():\n",
    "    app = TestApp()\n",
    "    \n",
    "    app.connect(\"127.0.0.1\", 7495, 0)\n",
    "    \n",
    "    contract = Contract()\n",
    "    contract.symbol = \"AAPL\"\n",
    "    contract.secType = \"STK\"\n",
    "    contract.exchange = \"SMART\"\n",
    "    contract.currency = \"USD\"\n",
    "    contract.primaryExchange = \"NASDAQ\"\n",
    "    \n",
    "    #app.reqMarketDataType(4)\n",
    "    app.reqMktData(1, contract, dataTickers, False, True, [])\n",
    "    \n",
    "    app.run()"
   ]
  },
  {
   "cell_type": "code",
   "execution_count": 19,
   "metadata": {
    "scrolled": true
   },
   "outputs": [],
   "source": [
    "main()"
   ]
  },
  {
   "cell_type": "code",
   "execution_count": null,
   "metadata": {},
   "outputs": [],
   "source": [
    " client.calculateOptionPrice(5002, ContractSamples.OptionAtBOX(), 0.22, 85, null);"
   ]
  },
  {
   "cell_type": "code",
   "execution_count": null,
   "metadata": {},
   "outputs": [],
   "source": [
    "# 23\n",
    "# 24\n",
    "\n",
    "# 258 - fundamental ratios"
   ]
  },
  {
   "cell_type": "code",
   "execution_count": null,
   "metadata": {},
   "outputs": [],
   "source": [
    "# https://interactivebrokers.github.io/tws-api/tick_types.html\n",
    "# https://interactivebrokers.github.io/tws-api/fundamental_ratios_tags.html"
   ]
  }
 ],
 "metadata": {
  "kernelspec": {
   "display_name": "Python 3",
   "language": "python",
   "name": "python3"
  },
  "language_info": {
   "codemirror_mode": {
    "name": "ipython",
    "version": 3
   },
   "file_extension": ".py",
   "mimetype": "text/x-python",
   "name": "python",
   "nbconvert_exporter": "python",
   "pygments_lexer": "ipython3",
   "version": "3.7.3"
  }
 },
 "nbformat": 4,
 "nbformat_minor": 2
}
