{
 "cells": [
  {
   "cell_type": "code",
   "execution_count": 1,
   "metadata": {},
   "outputs": [],
   "source": [
    "from selenium import webdriver\n",
    "from selenium.webdriver.chrome.options import Options\n",
    "from webdriver_manager.chrome import ChromeDriverManager"
   ]
  },
  {
   "cell_type": "code",
   "execution_count": 20,
   "metadata": {},
   "outputs": [],
   "source": [
    "from bs4 import BeautifulSoup\n",
    "import time\n",
    "import datetime\n",
    "import os"
   ]
  },
  {
   "cell_type": "code",
   "execution_count": 7,
   "metadata": {},
   "outputs": [],
   "source": [
    "chrome_options = Options()\n",
    "chrome_options.add_argument(\"--headless\")"
   ]
  },
  {
   "cell_type": "code",
   "execution_count": 32,
   "metadata": {},
   "outputs": [],
   "source": [
    "def get_innitial_site_data(URL,SYMBOL):\n",
    "    t = time.time()\n",
    "    driver = webdriver.Chrome(ChromeDriverManager().install(),options=chrome_options)\n",
    "    driver.get(URL)\n",
    "    # Y = 10000\n",
    "    # driver.execute_script(f\"window.scrollTo(0, {Y})\") \n",
    "    HTML = driver.page_source.encode(\"utf-8\")\n",
    "    FILE = open(f'news/{SYMBOL}.txt','w')\n",
    "    soup = BeautifulSoup(str(HTML))\n",
    "    for script in soup([\"script\", \"style\"]):\n",
    "        script.decompose()\n",
    "    strips = list(soup.stripped_strings)\n",
    "    \n",
    "    FILE.write(str(strips))\n",
    "    print(f'Done {SYMBOL} in {time.time()-t}s')"
   ]
  },
  {
   "cell_type": "code",
   "execution_count": 39,
   "metadata": {},
   "outputs": [],
   "source": [
    "def crossref_news(URL,SYMBOL):\n",
    "    driver = webdriver.Chrome(ChromeDriverManager().install(),options=chrome_options)\n",
    "    driver.get(URL)\n",
    "    # Y = 10000\n",
    "    # driver.execute_script(f\"window.scrollTo(0, {Y})\") \n",
    "    HTML = driver.page_source.encode(\"utf-8\")\n",
    "    FILE_DATA = open(f'news/{SYMBOL}.txt','r').read()\n",
    "    \n",
    "    soup = BeautifulSoup(str(HTML))\n",
    "    for script in soup([\"script\", \"style\"]):\n",
    "        script.decompose()\n",
    "    strips = list(soup.stripped_strings)\n",
    "    \n",
    "    if FILE_DATA != str(strips):\n",
    "        #print(FILE_DATA+'\\n\\n\\n\\n\\n\\n\\n\\n\\n\\n\\n\\n\\n\\n\\n\\n\\n\\n')\n",
    "        #print(TEXT)\n",
    "        return(\"New press release!\")\n",
    "    return(\"No change\")"
   ]
  },
  {
   "cell_type": "code",
   "execution_count": 34,
   "metadata": {},
   "outputs": [
    {
     "name": "stderr",
     "output_type": "stream",
     "text": [
      "[WDM] - Cache is valid for [04/06/2020]\n",
      "[WDM] - Looking for [chromedriver 80.0.3987.106 linux64] driver in cache \n",
      "[WDM] - Driver found in cache [/home/lukepiette/.wdm/drivers/chromedriver/80.0.3987.106/linux64/chromedriver]\n"
     ]
    },
    {
     "name": "stdout",
     "output_type": "stream",
     "text": [
      " \n",
      "Done HUGE in 11.445623874664307s\n"
     ]
    }
   ],
   "source": [
    "URL = \"https://fsdpharma.com/news/\"\n",
    "SYMBOL = \"HUGE\"\n",
    "get_innitial_site_data(URL, SYMBOL)"
   ]
  },
  {
   "cell_type": "code",
   "execution_count": 40,
   "metadata": {
    "scrolled": false
   },
   "outputs": [
    {
     "name": "stderr",
     "output_type": "stream",
     "text": [
      "[WDM] - Cache is valid for [04/06/2020]\n",
      "[WDM] - Looking for [chromedriver 80.0.3987.106 linux64] driver in cache \n",
      "[WDM] - Driver found in cache [/home/lukepiette/.wdm/drivers/chromedriver/80.0.3987.106/linux64/chromedriver]\n"
     ]
    },
    {
     "name": "stdout",
     "output_type": "stream",
     "text": [
      " \n"
     ]
    },
    {
     "data": {
      "text/plain": [
       "'No change'"
      ]
     },
     "execution_count": 40,
     "metadata": {},
     "output_type": "execute_result"
    }
   ],
   "source": [
    "crossref_news(URL, SYMBOL)"
   ]
  },
  {
   "cell_type": "code",
   "execution_count": null,
   "metadata": {},
   "outputs": [],
   "source": []
  }
 ],
 "metadata": {
  "kernelspec": {
   "display_name": "Python 3",
   "language": "python",
   "name": "python3"
  },
  "language_info": {
   "codemirror_mode": {
    "name": "ipython",
    "version": 3
   },
   "file_extension": ".py",
   "mimetype": "text/x-python",
   "name": "python",
   "nbconvert_exporter": "python",
   "pygments_lexer": "ipython3",
   "version": "3.7.3"
  }
 },
 "nbformat": 4,
 "nbformat_minor": 2
}
