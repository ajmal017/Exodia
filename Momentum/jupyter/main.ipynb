{
 "cells": [
  {
   "cell_type": "code",
   "execution_count": 111,
   "metadata": {},
   "outputs": [],
   "source": [
    "from stocklive import Stock\n",
    "from commentssentiment import CommentSentiment\n",
    "from commentEMA import GenerateEMA\n",
    "from newsIEXcloud import NewsIEX"
   ]
  },
  {
   "cell_type": "code",
   "execution_count": 114,
   "metadata": {},
   "outputs": [],
   "source": [
    "import schedule\n",
    "import time"
   ]
  },
  {
   "cell_type": "code",
   "execution_count": 125,
   "metadata": {},
   "outputs": [],
   "source": [
    "def function(tickerList):\n",
    "    now = str(datetime.datetime.now())\n",
    "    nowDate = now.split(' ')[0]\n",
    "    nowMin = now.split(' ')[1]\n",
    "    \n",
    "    n = NewsIEX()\n",
    "    for tick in tickerList:\n",
    "        n.getNews(tick,2)\n",
    "    \n",
    "    while int(nowMin[0:2]) < 20:\n",
    "        for tim in range(6):\n",
    "            print(f'Done {tim}. Time: {nowMin}')\n",
    "            for tick in tickerList:\n",
    "                #2.0 seconds for new stocks \n",
    "                Stock(tick).run()\n",
    "            time.sleep(5*60-(0.3*len(tickerList)))\n",
    "                \n",
    "        for tick in tickerList:\n",
    "            cs = CommentSentiment(tick,'newest')\n",
    "            cs.saveStocktwits()\n",
    "            cs.saveYahoo()\n",
    "            \n",
    "        now = str(datetime.datetime.now())\n",
    "        nowDate = now.split(' ')[0]\n",
    "        nowMin = now.split(' ')[1]\n",
    "        \n",
    "    print('\\n\\nDONE FOR THE DAY :)')\n",
    "    schedule.every().day.at(\"08:00\").do(run(tickerList),'It is 08:00.\\n')\n",
    "    while True:\n",
    "        schedule.run_pending()\n",
    "        time.sleep(60)\n",
    "\n",
    "        \n",
    "def run(tickerList):\n",
    "    now = str(datetime.datetime.now())\n",
    "    nowDate = now.split(' ')[0]\n",
    "    nowMin = now.split(' ')[1]\n",
    "    \n",
    "    if int(nowMin[0:2]) < 8 or int(nowMin[0:2]) > 20:\n",
    "        schedule.every().day.at(\"08:00\").do(function(tickerList),'It is 08:00.\\n')\n",
    "        while True:\n",
    "            schedule.run_pending()\n",
    "            time.sleep(60)\n",
    "    else:\n",
    "        function(tickerList)\n",
    "        \n",
    "        \n",
    "\n",
    "    #cs.parseStocktwitsComments('HEXO')\n",
    "    #cs.parseYahooComments('HEXO')\n",
    "    \n",
    "    #ema = GenerateEMA()\n",
    "    #ema.genEMA('HEXO',15,'yahoo')\n",
    "    \n",
    "    #AdjData = ema.getEMAdata('HEXO',15,'yahoo','adj')"
   ]
  },
  {
   "cell_type": "code",
   "execution_count": 126,
   "metadata": {
    "scrolled": true
   },
   "outputs": [
    {
     "name": "stdout",
     "output_type": "stream",
     "text": [
      "No text... using summary\n",
      "Delta: 13\n",
      "Done 2 days.\n",
      "No text... using summary\n",
      "Delta: 1\n",
      "Done 2 days.\n",
      "Less than 30 news articles.\n",
      "1 done.\n",
      "2 done.\n",
      "3 done.\n",
      "4 done.\n",
      "5 done.\n",
      "6 done.\n",
      "7 done.\n",
      "8 done.\n",
      "9 done.\n",
      "10 done.\n",
      "11 done.\n",
      "No text... using summary\n",
      "12 done.\n",
      "13 done.\n",
      "14 done.\n",
      "15 done.\n",
      "16 done.\n",
      "17 done.\n",
      "18 done.\n",
      "19 done.\n",
      "20 done.\n",
      "21 done.\n",
      "22 done.\n",
      "23 done.\n",
      "24 done.\n",
      "25 done.\n",
      "26 done.\n",
      "27 done.\n",
      "No text... using summary\n",
      "28 done.\n",
      "29 done.\n",
      "30 done.\n",
      "Delta: 18\n",
      "Delta: 2\n",
      "Done 2 days.\n",
      "Done 0. Time: 16:08:45.547625\n",
      "Done Live.\n",
      "Done Live.\n",
      "Done Live.\n"
     ]
    },
    {
     "ename": "KeyboardInterrupt",
     "evalue": "",
     "output_type": "error",
     "traceback": [
      "\u001b[0;31m---------------------------------------------------------------------------\u001b[0m",
      "\u001b[0;31mKeyboardInterrupt\u001b[0m                         Traceback (most recent call last)",
      "\u001b[0;32m<ipython-input-126-70ddaf73b363>\u001b[0m in \u001b[0;36m<module>\u001b[0;34m\u001b[0m\n\u001b[1;32m      1\u001b[0m \u001b[0mtickerList\u001b[0m \u001b[0;34m=\u001b[0m \u001b[0;34m[\u001b[0m\u001b[0;34m'HEXO'\u001b[0m\u001b[0;34m,\u001b[0m\u001b[0;34m'VXRT'\u001b[0m\u001b[0;34m,\u001b[0m\u001b[0;34m'INO'\u001b[0m\u001b[0;34m]\u001b[0m\u001b[0;34m\u001b[0m\u001b[0;34m\u001b[0m\u001b[0m\n\u001b[0;32m----> 2\u001b[0;31m \u001b[0mrun\u001b[0m\u001b[0;34m(\u001b[0m\u001b[0mtickerList\u001b[0m\u001b[0;34m)\u001b[0m\u001b[0;34m\u001b[0m\u001b[0;34m\u001b[0m\u001b[0m\n\u001b[0m",
      "\u001b[0;32m<ipython-input-125-099411dab03b>\u001b[0m in \u001b[0;36mrun\u001b[0;34m(tickerList)\u001b[0m\n\u001b[1;32m     43\u001b[0m             \u001b[0mtime\u001b[0m\u001b[0;34m.\u001b[0m\u001b[0msleep\u001b[0m\u001b[0;34m(\u001b[0m\u001b[0;36m60\u001b[0m\u001b[0;34m)\u001b[0m\u001b[0;34m\u001b[0m\u001b[0;34m\u001b[0m\u001b[0m\n\u001b[1;32m     44\u001b[0m     \u001b[0;32melse\u001b[0m\u001b[0;34m:\u001b[0m\u001b[0;34m\u001b[0m\u001b[0;34m\u001b[0m\u001b[0m\n\u001b[0;32m---> 45\u001b[0;31m         \u001b[0mfunction\u001b[0m\u001b[0;34m(\u001b[0m\u001b[0mtickerList\u001b[0m\u001b[0;34m)\u001b[0m\u001b[0;34m\u001b[0m\u001b[0;34m\u001b[0m\u001b[0m\n\u001b[0m\u001b[1;32m     46\u001b[0m \u001b[0;34m\u001b[0m\u001b[0m\n\u001b[1;32m     47\u001b[0m \u001b[0;34m\u001b[0m\u001b[0m\n",
      "\u001b[0;32m<ipython-input-125-099411dab03b>\u001b[0m in \u001b[0;36mfunction\u001b[0;34m(tickerList)\u001b[0m\n\u001b[1;32m     14\u001b[0m                 \u001b[0;31m#2.0 seconds for new stocks\u001b[0m\u001b[0;34m\u001b[0m\u001b[0;34m\u001b[0m\u001b[0;34m\u001b[0m\u001b[0m\n\u001b[1;32m     15\u001b[0m                 \u001b[0mStock\u001b[0m\u001b[0;34m(\u001b[0m\u001b[0mtick\u001b[0m\u001b[0;34m)\u001b[0m\u001b[0;34m.\u001b[0m\u001b[0mrun\u001b[0m\u001b[0;34m(\u001b[0m\u001b[0;34m)\u001b[0m\u001b[0;34m\u001b[0m\u001b[0;34m\u001b[0m\u001b[0m\n\u001b[0;32m---> 16\u001b[0;31m             \u001b[0mtime\u001b[0m\u001b[0;34m.\u001b[0m\u001b[0msleep\u001b[0m\u001b[0;34m(\u001b[0m\u001b[0;36m5\u001b[0m\u001b[0;34m*\u001b[0m\u001b[0;36m60\u001b[0m\u001b[0;34m-\u001b[0m\u001b[0;34m(\u001b[0m\u001b[0;36m0.3\u001b[0m\u001b[0;34m*\u001b[0m\u001b[0mlen\u001b[0m\u001b[0;34m(\u001b[0m\u001b[0mtickerList\u001b[0m\u001b[0;34m)\u001b[0m\u001b[0;34m)\u001b[0m\u001b[0;34m)\u001b[0m\u001b[0;34m\u001b[0m\u001b[0;34m\u001b[0m\u001b[0m\n\u001b[0m\u001b[1;32m     17\u001b[0m \u001b[0;34m\u001b[0m\u001b[0m\n\u001b[1;32m     18\u001b[0m         \u001b[0;32mfor\u001b[0m \u001b[0mtick\u001b[0m \u001b[0;32min\u001b[0m \u001b[0mtickerList\u001b[0m\u001b[0;34m:\u001b[0m\u001b[0;34m\u001b[0m\u001b[0;34m\u001b[0m\u001b[0m\n",
      "\u001b[0;31mKeyboardInterrupt\u001b[0m: "
     ]
    }
   ],
   "source": [
    "tickerList = ['HEXO','VXRT','INO']\n",
    "run(tickerList)"
   ]
  }
 ],
 "metadata": {
  "kernelspec": {
   "display_name": "Python 3",
   "language": "python",
   "name": "python3"
  },
  "language_info": {
   "codemirror_mode": {
    "name": "ipython",
    "version": 3
   },
   "file_extension": ".py",
   "mimetype": "text/x-python",
   "name": "python",
   "nbconvert_exporter": "python",
   "pygments_lexer": "ipython3",
   "version": "3.7.3"
  }
 },
 "nbformat": 4,
 "nbformat_minor": 2
}
