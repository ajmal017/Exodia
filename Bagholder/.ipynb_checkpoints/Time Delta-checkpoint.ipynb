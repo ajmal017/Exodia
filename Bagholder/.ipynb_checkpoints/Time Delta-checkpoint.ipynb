{
 "cells": [
  {
   "cell_type": "code",
   "execution_count": 8,
   "metadata": {},
   "outputs": [],
   "source": [
    "import time\n",
    "import requests\n",
    "import json"
   ]
  },
  {
   "cell_type": "code",
   "execution_count": 9,
   "metadata": {},
   "outputs": [],
   "source": [
    "class CommentDelta(object):\n",
    "    def __init__(self, tickerArray):\n",
    "        self.placeholder = 'placeholder'\n",
    "        self.popularNewest = 'newest'\n",
    "        self.Stocktwits_URL = f'https://api.stocktwits.com/api/2/streams/symbol/{self.placeholder}.json?filter=top'\n",
    "        self.tickerArray = [i.upper() for i in tickerArray]\n",
    "        \n",
    "        \n",
    "    def getStocktwitsComments(self,ticker):\n",
    "        agent = {\"User-Agent\":'Mozilla/5.0 (X11; Linux x86_64) AppleWebKit/537.36 (KHTML, like Gecko) Ubuntu Chromium/83.0.4103.61 Chrome/83.0.4103.61 Safari/537.36'}\n",
    "        comments = requests.get(self.Stocktwits_URL.replace(self.placeholder,ticker),agent)\n",
    "        return comments.json()\n",
    "    \n",
    "    \n",
    "    def saveStocktwitsComment(self,comments):\n",
    "        msgFirst = comments['messages'][0]\n",
    "        msgLast = comments['messages'][-1]\n",
    "        \n",
    "        msgFirstTime = time.mktime(datetime.datetime.strptime(msgFirst['created_at'], \"%Y-%m-%dT%H:%M:%SZ\").timetuple())\n",
    "        msgLastTime = time.mktime(datetime.datetime.strptime(msgLast['created_at'], \"%Y-%m-%dT%H:%M:%SZ\").timetuple())\n",
    "        timeDelta = (msgFirstTime-msgLastTime)/60\n",
    "        \n",
    "        return timeDelta\n",
    "        \n",
    "        \n",
    "    def getLeastPopular(self):\n",
    "        leastDict = {}\n",
    "        for tick in self.tickerArray:\n",
    "            comments = self.getStocktwitsComments(tick)\n",
    "            timeDelta = self.saveStocktwitsComment(comments)\n",
    "            leastDict[tick] = timeDelta\n",
    "        \n",
    "        return leastDict"
   ]
  },
  {
   "cell_type": "code",
   "execution_count": 10,
   "metadata": {},
   "outputs": [],
   "source": [
    "tickerArray = ['TSLA']\n",
    "cc = CommentDelta(tickerArray)"
   ]
  },
  {
   "cell_type": "code",
   "execution_count": 11,
   "metadata": {},
   "outputs": [
    {
     "data": {
      "text/plain": [
       "{'TSLA': 44.28333333333333}"
      ]
     },
     "execution_count": 11,
     "metadata": {},
     "output_type": "execute_result"
    }
   ],
   "source": [
    "cc.getLeastPopular()"
   ]
  },
  {
   "cell_type": "code",
   "execution_count": null,
   "metadata": {},
   "outputs": [],
   "source": []
  }
 ],
 "metadata": {
  "kernelspec": {
   "display_name": "Python 3",
   "language": "python",
   "name": "python3"
  },
  "language_info": {
   "codemirror_mode": {
    "name": "ipython",
    "version": 3
   },
   "file_extension": ".py",
   "mimetype": "text/x-python",
   "name": "python",
   "nbconvert_exporter": "python",
   "pygments_lexer": "ipython3",
   "version": "3.7.3"
  }
 },
 "nbformat": 4,
 "nbformat_minor": 2
}
