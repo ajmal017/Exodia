{
 "cells": [
  {
   "cell_type": "code",
   "execution_count": 1,
   "metadata": {},
   "outputs": [],
   "source": [
    "import cv2\n",
    "import pytesseract"
   ]
  },
  {
   "cell_type": "code",
   "execution_count": 2,
   "metadata": {},
   "outputs": [],
   "source": [
    "img = cv2.imread('stocktwits_info.png')\n",
    "text = pytesseract.image_to_string(img)"
   ]
  },
  {
   "cell_type": "code",
   "execution_count": 3,
   "metadata": {},
   "outputs": [
    {
     "data": {
      "text/plain": [
       "'OAuth settings\\n\\nYour application\\'s OAuth settings. Keep the \"Consumer secret\" a secret. This key should never be human-readable in your application.\\nSite domain: lukepiette.com\\n\\nConsumer key: 7bd3d173365b83c5\\n\\nConsumer secret: 10026448¢270edb2ac6b692df39b2b4406d8b367\\n\\nRequest token URL: htips://api.stocktwits.com/api/2/oauthitoken\\n\\nAuthorize URL: https://api.stocktwits.com/api/2/oauth/authorize\\n\\nDeAuthorization URL: None'"
      ]
     },
     "execution_count": 3,
     "metadata": {},
     "output_type": "execute_result"
    }
   ],
   "source": [
    "text"
   ]
  },
  {
   "cell_type": "code",
   "execution_count": null,
   "metadata": {},
   "outputs": [],
   "source": []
  }
 ],
 "metadata": {
  "kernelspec": {
   "display_name": "Python 3",
   "language": "python",
   "name": "python3"
  },
  "language_info": {
   "codemirror_mode": {
    "name": "ipython",
    "version": 3
   },
   "file_extension": ".py",
   "mimetype": "text/x-python",
   "name": "python",
   "nbconvert_exporter": "python",
   "pygments_lexer": "ipython3",
   "version": "3.7.3"
  }
 },
 "nbformat": 4,
 "nbformat_minor": 2
}
