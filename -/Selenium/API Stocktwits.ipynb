{
 "cells": [
  {
   "cell_type": "code",
   "execution_count": 12,
   "metadata": {},
   "outputs": [],
   "source": [
    "from bs4 import BeautifulSoup\n",
    "import json\n",
    "import re\n",
    "import requests\n",
    "import json\n",
    "import time\n",
    "import datetime\n",
    "import os"
   ]
  },
  {
   "cell_type": "code",
   "execution_count": 13,
   "metadata": {},
   "outputs": [],
   "source": [
    "Stocktwits_URL = 'https://api.stocktwits.com/api/2/streams/symbol/LK.json?filter=top'\n",
    "Yahoo_URL = 'htt ps://finance.yahoo.com/_finance_doubledown/api/resource/canvass.getMessageListForContext_ns;context=finmb_570676370;count=40;index=null;lang=en-US;namespace=yahoo_finance;oauthConsumerKey=finance.oauth.client.canvass.prod.consumerKey;oauthConsumerSecret=finance.oauth.client.canvass.prod.consumerSecret&sortBy=newest'\n",
    "HTML = requests.get(Stocktwits_URL)"
   ]
  },
  {
   "cell_type": "code",
   "execution_count": 14,
   "metadata": {
    "scrolled": true
   },
   "outputs": [],
   "source": [
    "data = HTML.json()"
   ]
  },
  {
   "cell_type": "code",
   "execution_count": 84,
   "metadata": {},
   "outputs": [],
   "source": [
    "def getTickerName(tickerList):\n",
    "    tickerNames = []\n",
    "    for tic in tickerList:\n",
    "        Stocktwits_URL = f'https://api.stocktwits.com/api/2/streams/symbol/{tic}.json?filter=top'\n",
    "        HTML = requests.get(Stocktwits_URL)\n",
    "        data = HTML.json()\n",
    "        \n",
    "        name = data['symbol']['title']\n",
    "        name = name.replace(',','')\n",
    "        name = name.replace('.','')\n",
    "        name = name.replace('Inc','')\n",
    "        name = name.replace('Ltd','')\n",
    "        name = name.replace('Corp','')\n",
    "        tickerNames += [name]\n",
    "        \n",
    "    complete = {tickerList[i]:tickerNames[i] for i in range(len(tickerList))}\n",
    "    \n",
    "    old_data = {}\n",
    "    if os.path.isfile('./ticker-dict.json'):\n",
    "        with open('ticker-dict.json','r') as JSON:\n",
    "            old_data = json.load(JSON)\n",
    "            JSON.close()\n",
    "    \n",
    "    for dic in complete:\n",
    "        old_data[dic] = complete[dic]\n",
    "    \n",
    "    with open('ticker-dict.json','w') as JSON:\n",
    "        json.dump(old_data,JSON)\n",
    "        JSON.close()\n",
    "        \n",
    "    print('Done')"
   ]
  },
  {
   "cell_type": "code",
   "execution_count": 83,
   "metadata": {},
   "outputs": [
    {
     "name": "stdout",
     "output_type": "stream",
     "text": [
      "Done\n"
     ]
    }
   ],
   "source": [
    "tickers = ['UONE','INO','GNUS',]\n",
    "\n",
    "getTickerName(tickers)"
   ]
  },
  {
   "cell_type": "code",
   "execution_count": null,
   "metadata": {},
   "outputs": [],
   "source": []
  },
  {
   "cell_type": "code",
   "execution_count": 79,
   "metadata": {
    "scrolled": false
   },
   "outputs": [
    {
     "data": {
      "text/plain": [
       "'Luckin Coffee'"
      ]
     },
     "execution_count": 79,
     "metadata": {},
     "output_type": "execute_result"
    }
   ],
   "source": [
    "data['symbol']['title']"
   ]
  },
  {
   "cell_type": "code",
   "execution_count": 73,
   "metadata": {
    "scrolled": false
   },
   "outputs": [],
   "source": [
    "# len(data['canvassMessages'])"
   ]
  },
  {
   "cell_type": "code",
   "execution_count": 72,
   "metadata": {},
   "outputs": [
    {
     "data": {
      "text/plain": [
       "1.0033333333333334"
      ]
     },
     "execution_count": 72,
     "metadata": {},
     "output_type": "execute_result"
    }
   ],
   "source": [
    "1 + 1**3/300"
   ]
  },
  {
   "cell_type": "code",
   "execution_count": 25,
   "metadata": {},
   "outputs": [],
   "source": [
    "username = 'piette416'\n",
    "password = 'Connect01'"
   ]
  },
  {
   "cell_type": "code",
   "execution_count": 9,
   "metadata": {},
   "outputs": [],
   "source": [
    "import time\n",
    "import datetime\n",
    "t1 = \"2020-06-06T23:10:50Z\"\n",
    "t2 = \"2020-06-06T23:10:50Z\"\n",
    "\n",
    "tUnix1 = time.mktime(datetime.datetime.strptime(t1, \"%Y-%m-%dT%H:%M:%SZ\").timetuple())\n",
    "tUnix2 = time.mktime(datetime.datetime.strptime(t2, \"%Y-%m-%dT%H:%M:%SZ\").timetuple())"
   ]
  },
  {
   "cell_type": "code",
   "execution_count": 10,
   "metadata": {},
   "outputs": [
    {
     "data": {
      "text/plain": [
       "69.0"
      ]
     },
     "execution_count": 10,
     "metadata": {},
     "output_type": "execute_result"
    }
   ],
   "source": [
    "tUnix2 - tUnix1"
   ]
  },
  {
   "cell_type": "code",
   "execution_count": 23,
   "metadata": {},
   "outputs": [
    {
     "name": "stdout",
     "output_type": "stream",
     "text": [
      "{'neg': 0.186, 'neu': 0.638, 'pos': 0.176, 'compound': -0.3818}\n"
     ]
    }
   ],
   "source": [
    "import nltk\n",
    "from nltk.sentiment.vader import SentimentIntensityAnalyzer\n",
    "#nltk.download('vader_lexicon')\n",
    "\n",
    "sia = SentimentIntensityAnalyzer()\n",
    "text = \"\"\n",
    "print(sia.polarity_scores(text))"
   ]
  },
  {
   "cell_type": "code",
   "execution_count": null,
   "metadata": {},
   "outputs": [],
   "source": []
  },
  {
   "cell_type": "code",
   "execution_count": null,
   "metadata": {},
   "outputs": [],
   "source": []
  }
 ],
 "metadata": {
  "kernelspec": {
   "display_name": "Python 3",
   "language": "python",
   "name": "python3"
  },
  "language_info": {
   "codemirror_mode": {
    "name": "ipython",
    "version": 3
   },
   "file_extension": ".py",
   "mimetype": "text/x-python",
   "name": "python",
   "nbconvert_exporter": "python",
   "pygments_lexer": "ipython3",
   "version": "3.7.3"
  }
 },
 "nbformat": 4,
 "nbformat_minor": 2
}
