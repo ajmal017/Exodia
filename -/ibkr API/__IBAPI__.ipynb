{
 "cells": [
  {
   "cell_type": "code",
   "execution_count": 1,
   "metadata": {},
   "outputs": [],
   "source": [
    "from ibapi.client import EClient\n",
    "from ibapi.wrapper import EWrapper\n",
    "from ibapi.contract import Contract\n",
    "from ibapi.ticktype import TickTypeEnum\n",
    "\n",
    "# https://www.youtube.com/watch?v=aSdi667LGp0"
   ]
  },
  {
   "cell_type": "code",
   "execution_count": 2,
   "metadata": {},
   "outputs": [],
   "source": [
    "# Useful analysis:\n",
    "# ICHIMOKU cloud analysis "
   ]
  },
  {
   "cell_type": "code",
   "execution_count": 3,
   "metadata": {},
   "outputs": [],
   "source": [
    "class TestApp(EWrapper, EClient):\n",
    "    def __init__(self):\n",
    "        EClient.__init__(self, self)\n",
    "        \n",
    "    def error(self, reqId, errorCode, errorString):\n",
    "        print(\"Error: \", reqId, \" \", errorCode, \" \", errorString)\n",
    "        \n",
    "    def tickPrice(self, reqId, tickType, price, attrib):\n",
    "        print(\"Tock Price. Ticker Id: \", reqId, \"tickType: \", TickTypeEnum.to_str(tickType), \"Price: \", price, end=' ')\n",
    "        \n",
    "    def tickSize(self, reqId, tickType, size):\n",
    "        print(\"Tick Size. Ticker Id: \", reqId, \"tickType: \", TickTypeEnum.to_str(tickType), \"Size: \", size)\n",
    "        \n",
    "    def historicalData(self, reqId, bar):\n",
    "        print(\"Historical Data. \", reqId, \" Date:\", bar.date, \" Open:\", bar.open, \" High:\", bar.high, \" Low:\", bar.low, \" Close:\", bar.close, \" Volume:\", bar.volume, \" Count:\", bar.barCount, \" WAP:\", bar.average)"
   ]
  },
  {
   "cell_type": "code",
   "execution_count": 25,
   "metadata": {},
   "outputs": [],
   "source": [
    "dataTickers = \"\"\n",
    "\n",
    "def main():\n",
    "    app = TestApp()\n",
    "    \n",
    "    app.connect(\"127.0.0.1\", 7495, 0)\n",
    "    \n",
    "    contract = Contract()\n",
    "    contract.symbol = \"AAPL\"\n",
    "    contract.secType = \"STK\"\n",
    "    contract.exchange = \"SMART\"\n",
    "    contract.currency = \"USD\"\n",
    "    contract.primaryExchange = \"NASDAQ\"\n",
    "    \n",
    "    #app.reqMarketDataType(4)\n",
    "    #app.reqMktData(1, contract, dataTickers, False, True, [])\n",
    "    app.reqHistoricalData(1, contract, dataTickers, \"1 D\", \"1 min\", \"MIDPOINT\", 0, 1, False, [])\n",
    "    \n",
    "    app.run()"
   ]
  },
  {
   "cell_type": "code",
   "execution_count": 26,
   "metadata": {
    "scrolled": true
   },
   "outputs": [
    {
     "name": "stdout",
     "output_type": "stream",
     "text": [
      "Error:  -1   502   Couldn't connect to TWS. Confirm that \"Enable ActiveX and Socket EClients\" \n",
      "is enabled and connection port is the same as \"Socket Port\" on the \n",
      "TWS \"Edit->Global Configuration...->API->Settings\" menu. Live Trading ports: \n",
      "TWS: 7496; IB Gateway: 4001. Simulated Trading ports for new installations \n",
      "of version 954.1 or newer:  TWS: 7497; IB Gateway: 4002\n",
      "Error:  1   504   Not connected\n"
     ]
    }
   ],
   "source": [
    "main()"
   ]
  },
  {
   "cell_type": "code",
   "execution_count": null,
   "metadata": {},
   "outputs": [],
   "source": [
    " client.calculateOptionPrice(5002, ContractSamples.OptionAtBOX(), 0.22, 85, null);"
   ]
  },
  {
   "cell_type": "code",
   "execution_count": null,
   "metadata": {},
   "outputs": [],
   "source": [
    "# 23\n",
    "# 24\n",
    "\n",
    "# 258 - fundamental ratios"
   ]
  },
  {
   "cell_type": "code",
   "execution_count": null,
   "metadata": {},
   "outputs": [],
   "source": [
    "# https://interactivebrokers.github.io/tws-api/tick_types.html\n",
    "# https://interactivebrokers.github.io/tws-api/fundamental_ratios_tags.html"
   ]
  }
 ],
 "metadata": {
  "kernelspec": {
   "display_name": "Python 3",
   "language": "python",
   "name": "python3"
  },
  "language_info": {
   "codemirror_mode": {
    "name": "ipython",
    "version": 3
   },
   "file_extension": ".py",
   "mimetype": "text/x-python",
   "name": "python",
   "nbconvert_exporter": "python",
   "pygments_lexer": "ipython3",
   "version": "3.7.3"
  }
 },
 "nbformat": 4,
 "nbformat_minor": 2
}
